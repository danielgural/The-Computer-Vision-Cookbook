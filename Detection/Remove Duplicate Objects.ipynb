{
 "cells": [
  {
   "cell_type": "markdown",
   "id": "5dc870d4",
   "metadata": {},
   "source": [
    "# Remove Duplicate Objects"
   ]
  },
  {
   "cell_type": "markdown",
   "id": "7eea125b",
   "metadata": {},
   "source": [
    "This recipe demonstrates a simple workflow for finding and removing duplicate objects in your FiftyOne datasets using [intersection over union (IoU)](https://en.wikipedia.org/wiki/Jaccard_index).\n",
    "\n",
    "Specificially, it covers:\n",
    "\n",
    "- Using the [compute_max_ious()](https://docs.voxel51.com/api/fiftyone.utils.iou.html#fiftyone.utils.iou.compute_max_ious) utility to compute overlap between spatial objects\n",
    "- Using the App’s [tagging UI](https://docs.voxel51.com/user_guide/app.html#tags-and-tagging) to review and delete duplicate labels\n",
    "- Using the [find_duplicates()](https://docs.voxel51.com/api/fiftyone.utils.iou.html#fiftyone.utils.iou.find_duplicates) utility to automatically detect duplicate objects\n",
    "\n"
   ]
  },
  {
   "cell_type": "markdown",
   "id": "cbfc191d",
   "metadata": {},
   "source": [
    "## Setup"
   ]
  },
  {
   "cell_type": "markdown",
   "id": "908c35be",
   "metadata": {},
   "source": [
    "If you haven't already, install FiftyOne:"
   ]
  },
  {
   "cell_type": "code",
   "execution_count": null,
   "id": "59b3d69e",
   "metadata": {},
   "outputs": [],
   "source": [
    "!pip install fiftyone"
   ]
  },
  {
   "cell_type": "markdown",
   "id": "c869b9f7",
   "metadata": {},
   "source": [
    "## Load a Dataset"
   ]
  },
  {
   "cell_type": "markdown",
   "id": "75ea5fbe",
   "metadata": {},
   "source": [
    "For the walkthrough, we will be using the [MSCOCO 2017](https://cocodataset.org/#home) validation split from the [FiftyOne Dataset Zoo](https://docs.voxel51.com/user_guide/dataset_zoo/datasets.html#coco-2017). We can load it in with the following:"
   ]
  },
  {
   "cell_type": "code",
   "execution_count": null,
   "id": "f197ddc2",
   "metadata": {},
   "outputs": [],
   "source": [
    "import fiftyone as fo\n",
    "import fiftyone.zoo as foz\n",
    "\n",
    "dataset = foz.load_zoo_dataset(\"coco-2017\", split=\"validation\", max_samples=1000)"
   ]
  },
  {
   "cell_type": "markdown",
   "id": "6f53ec0d",
   "metadata": {},
   "source": [
    "## Finding Duplicate Objects"
   ]
  },
  {
   "cell_type": "markdown",
   "id": "7a4a71a8",
   "metadata": {},
   "source": [
    "Now let’s use the [`compute_max_ious()`](https://docs.voxel51.com/api/fiftyone.utils.iou.html#fiftyone.utils.iou.compute_max_ious) utility to compute the maximum IoU between each object in the `ground_truth` field with another object of the same class (`classwise=True`) within the same image.\n",
    "\n",
    "The max IOU will be stored in a max_iou attribute of each object, and the idea here is that duplicate objects will necessarily have high [IoU](https://en.wikipedia.org/wiki/Jaccard_index) with another object."
   ]
  },
  {
   "cell_type": "code",
   "execution_count": 2,
   "id": "cacc970c",
   "metadata": {},
   "outputs": [
    {
     "name": "stdout",
     "output_type": "stream",
     "text": [
      " 100% |███████████████| 1000/1000 [972.3ms elapsed, 0s remaining, 1.0K samples/s]       \n",
      "Max IoU range: (0.000000, 0.951640)\n"
     ]
    }
   ],
   "source": [
    "import fiftyone.utils.iou as foui\n",
    "\n",
    "foui.compute_max_ious(dataset, \"ground_truth\", iou_attr=\"max_iou\", classwise=True)\n",
    "print(\"Max IoU range: (%f, %f)\" % dataset.bounds(\"ground_truth.detections.max_iou\"))"
   ]
  },
  {
   "cell_type": "markdown",
   "id": "8f68ff71",
   "metadata": {},
   "source": [
    "Note that [`compute_max_ious()`](https://docs.voxel51.com/api/fiftyone.utils.iou.html#fiftyone.utils.iou.compute_max_ious) provides an optional other_field parameter if you would like to compute IoUs between objects in different fields instead.\n",
    "\n",
    "In any case, let’s create a [view](https://docs.voxel51.com/user_guide/using_views.html#filtering-sample-contents) that contains only labels with a max IoU > 0.75:"
   ]
  },
  {
   "cell_type": "code",
   "execution_count": 3,
   "id": "542dadb5",
   "metadata": {},
   "outputs": [
    {
     "name": "stdout",
     "output_type": "stream",
     "text": [
      "Dataset:     coco-2017-validation-1000\n",
      "Media type:  image\n",
      "Num samples: 7\n",
      "Sample fields:\n",
      "    id:           fiftyone.core.fields.ObjectIdField\n",
      "    filepath:     fiftyone.core.fields.StringField\n",
      "    tags:         fiftyone.core.fields.ListField(fiftyone.core.fields.StringField)\n",
      "    metadata:     fiftyone.core.fields.EmbeddedDocumentField(fiftyone.core.metadata.ImageMetadata)\n",
      "    ground_truth: fiftyone.core.fields.EmbeddedDocumentField(fiftyone.core.labels.Detections)\n",
      "View stages:\n",
      "    1. FilterLabels(field='ground_truth', filter={'$gt': ['$$this.max_iou', 0.75]}, only_matches=True, trajectories=False)\n"
     ]
    }
   ],
   "source": [
    "from fiftyone import ViewField as F\n",
    "\n",
    "# Retrieve detections that overlap above a chosen threshold\n",
    "dups_view = dataset.filter_labels(\"ground_truth\", F(\"max_iou\") > 0.75)\n",
    "print(dups_view)"
   ]
  },
  {
   "cell_type": "code",
   "execution_count": null,
   "id": "7e2db9b8",
   "metadata": {},
   "outputs": [],
   "source": [
    "session = fo.launch_app(view=dups_view)"
   ]
  },
  {
   "cell_type": "markdown",
   "id": "8b051e73",
   "metadata": {},
   "source": [
    "![dups_view](../assets/find_duplicates.png)"
   ]
  },
  {
   "cell_type": "markdown",
   "id": "b6829ed0-2a6d-48ef-a0a5-958450f6a2a7",
   "metadata": {},
   "source": [
    "In FiftyOne, we can tag our samples and export them for annotation job with one of labeling integrations: CVAT, Label Studio, V7, or LabelBox! This can get our dataset back into tip-top shape to train again!"
   ]
  }
 ],
 "metadata": {
  "kernelspec": {
   "display_name": "Python 3 (ipykernel)",
   "language": "python",
   "name": "python3"
  },
  "language_info": {
   "codemirror_mode": {
    "name": "ipython",
    "version": 3
   },
   "file_extension": ".py",
   "mimetype": "text/x-python",
   "name": "python",
   "nbconvert_exporter": "python",
   "pygments_lexer": "ipython3",
   "version": "3.10.14"
  }
 },
 "nbformat": 4,
 "nbformat_minor": 5
}
