{
 "cells": [
  {
   "cell_type": "code",
   "execution_count": 1,
   "id": "3eaf1a05",
   "metadata": {},
   "outputs": [
    {
     "name": "stdout",
     "output_type": "stream",
     "text": [
      "Downloading split 'validation' to '/home/dan/fiftyone/coco-2017/validation' if necessary\n",
      "Found annotations at '/home/dan/fiftyone/coco-2017/raw/instances_val2017.json'\n",
      "Images already downloaded\n",
      "Existing download of split 'validation' is sufficient\n",
      "Loading existing dataset 'evaluate-detections-tutorial'. To reload from disk, either delete the existing dataset or provide a custom `dataset_name` to use\n"
     ]
    }
   ],
   "source": [
    "import fiftyone as fo\n",
    "import fiftyone.zoo as foz\n",
    "\n",
    "dataset = foz.load_zoo_dataset(\n",
    "    \"coco-2017\",\n",
    "    split=\"validation\",\n",
    "    dataset_name=\"evaluate-detections-tutorial\",\n",
    ")\n",
    "dataset.persistent = True"
   ]
  },
  {
   "cell_type": "code",
   "execution_count": 2,
   "id": "0e4e6c04",
   "metadata": {},
   "outputs": [
    {
     "name": "stdout",
     "output_type": "stream",
     "text": [
      "Name:        evaluate-detections-tutorial\n",
      "Media type:  image\n",
      "Num samples: 5000\n",
      "Persistent:  True\n",
      "Tags:        []\n",
      "Sample fields:\n",
      "    id:           fiftyone.core.fields.ObjectIdField\n",
      "    filepath:     fiftyone.core.fields.StringField\n",
      "    tags:         fiftyone.core.fields.ListField(fiftyone.core.fields.StringField)\n",
      "    metadata:     fiftyone.core.fields.EmbeddedDocumentField(fiftyone.core.metadata.ImageMetadata)\n",
      "    ground_truth: fiftyone.core.fields.EmbeddedDocumentField(fiftyone.core.labels.Detections)\n"
     ]
    }
   ],
   "source": [
    "print(dataset)"
   ]
  },
  {
   "cell_type": "code",
   "execution_count": 3,
   "id": "6e358a5c",
   "metadata": {},
   "outputs": [
    {
     "name": "stdout",
     "output_type": "stream",
     "text": [
      "<Detection: {\n",
      "    'id': '663ba4b4cff68a59420a974f',\n",
      "    'attributes': {},\n",
      "    'tags': [],\n",
      "    'label': 'potted plant',\n",
      "    'bounding_box': [\n",
      "        0.37028125,\n",
      "        0.3345305164319249,\n",
      "        0.038593749999999996,\n",
      "        0.16314553990610328,\n",
      "    ],\n",
      "    'mask': None,\n",
      "    'confidence': None,\n",
      "    'index': None,\n",
      "    'supercategory': 'furniture',\n",
      "    'iscrowd': 0,\n",
      "}>\n"
     ]
    }
   ],
   "source": [
    "# Print a ground truth detection\n",
    "sample = dataset.first()\n",
    "print(sample.ground_truth.detections[0])"
   ]
  },
  {
   "cell_type": "code",
   "execution_count": 4,
   "id": "c65c2d89",
   "metadata": {},
   "outputs": [
    {
     "name": "stderr",
     "output_type": "stream",
     "text": [
      "/home/dan/anaconda3/envs/dev/lib/python3.9/site-packages/torch/cuda/__init__.py:141: UserWarning: CUDA initialization: CUDA unknown error - this may be due to an incorrectly set up environment, e.g. changing env variable CUDA_VISIBLE_DEVICES after program start. Setting the available devices to be zero. (Triggered internally at ../c10/cuda/CUDAFunctions.cpp:108.)\n",
      "  return torch._C._cuda_getDeviceCount() > 0\n",
      "Using cache found in /home/dan/.cache/torch/hub/ultralytics_yolov5_master\n",
      "YOLOv5 🚀 2024-5-8 Python-3.9.18 torch-2.2.2+cu121 CPU\n",
      "\n",
      "Fusing layers... \n",
      "YOLOv5s summary: 213 layers, 7225885 parameters, 0 gradients, 16.4 GFLOPs\n",
      "Adding AutoShape... \n"
     ]
    },
    {
     "name": "stdout",
     "output_type": "stream",
     "text": [
      " 100% |███████████████| 5000/5000 [4.2m elapsed, 0s remaining, 17.6 samples/s]      \n"
     ]
    },
    {
     "data": {
      "text/html": [
       "\n",
       "        <iframe\n",
       "            width=\"100%\"\n",
       "            height=\"800\"\n",
       "            src=\"http://localhost:5151/?notebook=True&subscription=7350913e-d9f2-4261-9b3d-15683f378914\"\n",
       "            frameborder=\"0\"\n",
       "            allowfullscreen\n",
       "            \n",
       "        ></iframe>\n",
       "        "
      ],
      "text/plain": [
       "<IPython.lib.display.IFrame at 0x76f3fdecff70>"
      ]
     },
     "metadata": {},
     "output_type": "display_data"
    }
   ],
   "source": [
    "model = foz.load_zoo_model(\"yolov8s-coco-torch\")\n",
    "\n",
    "dataset.apply_model(model, label_field=\"predictions\")\n",
    "\n",
    "session = fo.launch_app(dataset)"
   ]
  },
  {
   "cell_type": "code",
   "execution_count": null,
   "id": "e734bae2",
   "metadata": {},
   "outputs": [],
   "source": [
    "# Click the down caret on the `faster_rcnn` field of Fields Sidebar\n",
    "# and apply a confidence threshold\n",
    "session.show()"
   ]
  },
  {
   "cell_type": "code",
   "execution_count": 13,
   "id": "4a7549c4",
   "metadata": {},
   "outputs": [],
   "source": [
    "from fiftyone import ViewField as F\n",
    "\n",
    "# Only contains detections with confidence >= 0.75\n",
    "high_conf_view = dataset.filter_labels(\"predictions\", F(\"confidence\") > 0.75, only_matches=False)"
   ]
  },
  {
   "cell_type": "code",
   "execution_count": null,
   "id": "181baa18",
   "metadata": {},
   "outputs": [],
   "source": [
    "# Print some information about the view\n",
    "print(high_conf_view)"
   ]
  },
  {
   "cell_type": "code",
   "execution_count": null,
   "id": "78315f00",
   "metadata": {},
   "outputs": [],
   "source": [
    "# Print a prediction from the view to verify that its confidence is > 0.75\n",
    "sample = high_conf_view.first()\n",
    "print(sample.faster_rcnn.detections[0])"
   ]
  },
  {
   "cell_type": "code",
   "execution_count": null,
   "id": "e35dab8e",
   "metadata": {},
   "outputs": [],
   "source": [
    "OBJECT PATCHES"
   ]
  },
  {
   "cell_type": "code",
   "execution_count": 6,
   "id": "86bf0387",
   "metadata": {},
   "outputs": [
    {
     "name": "stdout",
     "output_type": "stream",
     "text": [
      "Evaluating detections...\n",
      " 100% |███████████████| 5000/5000 [39.9s elapsed, 0s remaining, 126.4 samples/s]      \n",
      "Performing IoU sweep...\n",
      " 100% |███████████████| 5000/5000 [29.9s elapsed, 0s remaining, 173.8 samples/s]      \n"
     ]
    }
   ],
   "source": [
    "# Evaluate the predictions in the `predictions` field of our dataset\n",
    "# with respect to the objects in the `ground_truth` field\n",
    "results = dataset.evaluate_detections(\n",
    "    \"predictions\",\n",
    "    gt_field=\"ground_truth\",\n",
    "    eval_key=\"eval\",\n",
    "    compute_mAP=True,\n",
    ")"
   ]
  },
  {
   "cell_type": "code",
   "execution_count": 9,
   "id": "9750d3aa",
   "metadata": {},
   "outputs": [
    {
     "name": "stdout",
     "output_type": "stream",
     "text": [
      "                precision    recall  f1-score   support\n",
      "\n",
      "      airplane       0.79      0.80      0.79       143\n",
      "         apple       0.43      0.30      0.35       240\n",
      "      backpack       0.50      0.28      0.36       371\n",
      "        banana       0.69      0.45      0.55       423\n",
      "  baseball bat       0.69      0.49      0.57       146\n",
      "baseball glove       0.63      0.52      0.57       148\n",
      "          bear       0.78      0.87      0.83        71\n",
      "           bed       0.67      0.49      0.57       163\n",
      "         bench       0.58      0.30      0.39       413\n",
      "       bicycle       0.69      0.47      0.56       316\n",
      "          bird       0.81      0.51      0.63       490\n",
      "          boat       0.61      0.42      0.50       432\n",
      "          book       0.62      0.25      0.36      1234\n",
      "        bottle       0.68      0.52      0.59      1072\n",
      "          bowl       0.60      0.53      0.56       635\n",
      "      broccoli       0.52      0.40      0.45       322\n",
      "           bus       0.84      0.69      0.76       285\n",
      "          cake       0.74      0.55      0.63       351\n",
      "           car       0.71      0.60      0.65      1970\n",
      "        carrot       0.51      0.41      0.45       391\n",
      "           cat       0.80      0.81      0.80       202\n",
      "    cell phone       0.56      0.47      0.51       262\n",
      "         chair       0.64      0.45      0.53      1834\n",
      "         clock       0.70      0.67      0.68       267\n",
      "         couch       0.71      0.51      0.59       261\n",
      "           cow       0.83      0.71      0.76       403\n",
      "           cup       0.62      0.56      0.59       918\n",
      "  dining table       0.60      0.34      0.43       697\n",
      "           dog       0.74      0.69      0.72       218\n",
      "         donut       0.77      0.59      0.67       374\n",
      "      elephant       0.84      0.85      0.84       276\n",
      "  fire hydrant       0.88      0.77      0.82       101\n",
      "          fork       0.59      0.39      0.47       215\n",
      "       frisbee       0.74      0.79      0.76       115\n",
      "       giraffe       0.91      0.85      0.88       232\n",
      "    hair drier       0.00      0.00      0.00        11\n",
      "       handbag       0.55      0.22      0.31       540\n",
      "         horse       0.76      0.69      0.72       273\n",
      "       hot dog       0.77      0.48      0.59       132\n",
      "      keyboard       0.60      0.63      0.61       153\n",
      "          kite       0.78      0.65      0.71       367\n",
      "         knife       0.47      0.21      0.29       326\n",
      "        laptop       0.73      0.70      0.71       231\n",
      "     microwave       0.68      0.73      0.70        55\n",
      "    motorcycle       0.81      0.64      0.72       380\n",
      "         mouse       0.73      0.75      0.74       106\n",
      "        orange       0.45      0.37      0.41       287\n",
      "          oven       0.66      0.47      0.55       143\n",
      " parking meter       0.76      0.53      0.63        60\n",
      "        person       0.86      0.73      0.79     11730\n",
      "         pizza       0.74      0.67      0.70       286\n",
      "  potted plant       0.49      0.45      0.47       343\n",
      "  refrigerator       0.71      0.63      0.66       126\n",
      "        remote       0.54      0.42      0.47       283\n",
      "      sandwich       0.57      0.50      0.54       177\n",
      "      scissors       0.56      0.28      0.37        36\n",
      "         sheep       0.66      0.71      0.69       374\n",
      "          sink       0.66      0.52      0.58       225\n",
      "    skateboard       0.80      0.72      0.75       179\n",
      "          skis       0.65      0.41      0.50       241\n",
      "     snowboard       0.70      0.48      0.57        69\n",
      "         spoon       0.47      0.22      0.30       253\n",
      "   sports ball       0.72      0.61      0.66       276\n",
      "     stop sign       0.71      0.67      0.69        75\n",
      "      suitcase       0.69      0.55      0.61       336\n",
      "     surfboard       0.67      0.49      0.57       269\n",
      "    teddy bear       0.71      0.58      0.63       191\n",
      " tennis racket       0.77      0.66      0.71       225\n",
      "           tie       0.70      0.47      0.56       254\n",
      "       toaster       0.60      0.33      0.43         9\n",
      "        toilet       0.75      0.78      0.76       179\n",
      "    toothbrush       0.50      0.30      0.37        57\n",
      " traffic light       0.65      0.50      0.56       639\n",
      "         train       0.86      0.76      0.81       190\n",
      "         truck       0.62      0.43      0.51       415\n",
      "            tv       0.69      0.69      0.69       288\n",
      "      umbrella       0.75      0.61      0.67       423\n",
      "          vase       0.59      0.54      0.57       278\n",
      "    wine glass       0.72      0.47      0.57       346\n",
      "         zebra       0.86      0.84      0.85       271\n",
      "\n",
      "     micro avg       0.74      0.58      0.65     38098\n",
      "     macro avg       0.67      0.54      0.59     38098\n",
      "  weighted avg       0.73      0.58      0.64     38098\n",
      "\n",
      "Yolov8s mAP score: 0.3262043539035905\n"
     ]
    }
   ],
   "source": [
    "# Print a classification report\n",
    "results.print_report()\n",
    "\n",
    "# Print out the mAP score\n",
    "print(f\"Yolov8s mAP score: {results.mAP()}\")"
   ]
  },
  {
   "cell_type": "code",
   "execution_count": 10,
   "id": "57ab98c4",
   "metadata": {},
   "outputs": [
    {
     "name": "stdout",
     "output_type": "stream",
     "text": [
      "               precision    recall  f1-score   support\n",
      "\n",
      "       person       0.86      0.73      0.79     11730\n",
      "          car       0.71      0.60      0.65      1970\n",
      "        chair       0.64      0.45      0.53      1834\n",
      "         book       0.62      0.25      0.36      1234\n",
      "       bottle       0.68      0.52      0.59      1072\n",
      "          cup       0.62      0.56      0.59       918\n",
      " dining table       0.60      0.34      0.43       697\n",
      "traffic light       0.65      0.50      0.56       639\n",
      "         bowl       0.60      0.53      0.56       635\n",
      "      handbag       0.55      0.22      0.31       540\n",
      "\n",
      "    micro avg       0.77      0.61      0.68     21269\n",
      "    macro avg       0.65      0.47      0.54     21269\n",
      " weighted avg       0.76      0.61      0.67     21269\n",
      "\n"
     ]
    }
   ],
   "source": [
    "# Get the 10 most common classes in the dataset\n",
    "counts = dataset.count_values(\"ground_truth.detections.label\")\n",
    "classes_top10 = sorted(counts, key=counts.get, reverse=True)[:10]\n",
    "\n",
    "# Print a classification report for the top-10 classes\n",
    "results.print_report(classes=classes_top10)"
   ]
  },
  {
   "cell_type": "code",
   "execution_count": 14,
   "id": "2351df93",
   "metadata": {},
   "outputs": [
    {
     "name": "stdout",
     "output_type": "stream",
     "text": [
      "Evaluating detections...\n",
      " 100% |███████████████| 5000/5000 [32.1s elapsed, 0s remaining, 170.5 samples/s]      \n",
      "Performing IoU sweep...\n",
      " 100% |███████████████| 5000/5000 [23.0s elapsed, 0s remaining, 210.4 samples/s]      \n"
     ]
    }
   ],
   "source": [
    "# Evaluate the predictions in the `predictions` field of our `high_conf_view`\n",
    "# with respect to the objects in the `ground_truth` field\n",
    "results = high_conf_view.evaluate_detections(\n",
    "    \"predictions\",\n",
    "    gt_field=\"ground_truth\",\n",
    "    eval_key=\"eval_high_conf\",\n",
    "    compute_mAP=True,\n",
    ")"
   ]
  },
  {
   "cell_type": "code",
   "execution_count": null,
   "id": "29a99820",
   "metadata": {},
   "outputs": [],
   "source": [
    "!pip install 'ipywidgets>=8,<9'"
   ]
  },
  {
   "cell_type": "code",
   "execution_count": 15,
   "id": "0d11403e",
   "metadata": {},
   "outputs": [
    {
     "data": {
      "text/plain": []
     },
     "metadata": {},
     "output_type": "display_data"
    },
    {
     "data": {
      "text/plain": []
     },
     "metadata": {},
     "output_type": "display_data"
    },
    {
     "data": {
      "application/vnd.jupyter.widget-view+json": {
       "model_id": "57bafa9e59c64af9a00324c5a1d59b52",
       "version_major": 2,
       "version_minor": 0
      },
      "text/plain": [
       "FigureWidget({\n",
       "    'data': [{'customdata': array([    0.95676,     0.93567,     0.92634,      0.9189,     0.91175,\n",
       "                                       0.90284,     0.81493,     0.80953,     0.80494,     0.80048,\n",
       "                                       0.79551,     0.79013,     0.78455,      0.7793,     0.77363,\n",
       "                                       0.76662,      0.7607,     0.75417,     0.74756,     0.66776,\n",
       "                                       0.66278,     0.65739,     0.65174,     0.64595,     0.63956,\n",
       "                                       0.63379,     0.55401,     0.54896,     0.54405,     0.46364,\n",
       "                                       0.45852,     0.37914,     0.22584,           0,           0,\n",
       "                                             0,           0,           0,           0,           0,\n",
       "                                             0,           0,           0,           0,           0,\n",
       "                                             0,           0,           0,           0,           0,\n",
       "                                             0,           0,           0,           0,           0,\n",
       "                                             0,           0,           0,           0,           0,\n",
       "                                             0,           0,           0,           0,           0,\n",
       "                                             0,           0,           0,           0,           0,\n",
       "                                             0,           0,           0,           0,           0,\n",
       "                                             0,           0,           0,           0,           0,\n",
       "                                             0,           0,           0,           0,           0,\n",
       "                                             0,           0,           0,           0,           0,\n",
       "                                             0,           0,           0,           0,           0,\n",
       "                                             0,           0,           0,           0,           0,\n",
       "                                             0]),\n",
       "              'hovertemplate': ('<b>class: %{text}</b><br>recal' ... 'customdata:.3f}<extra></extra>'),\n",
       "              'line': {'color': '#3366CC'},\n",
       "              'mode': 'lines',\n",
       "              'name': 'person (AP = 0.257)',\n",
       "              'text': array(['person', 'person', 'person', 'person', 'person', 'person', 'person',\n",
       "                             'person', 'person', 'person', 'person', 'person', 'person', 'person',\n",
       "                             'person', 'person', 'person', 'person', 'person', 'person', 'person',\n",
       "                             'person', 'person', 'person', 'person', 'person', 'person', 'person',\n",
       "                             'person', 'person', 'person', 'person', 'person', 'person', 'person',\n",
       "                             'person', 'person', 'person', 'person', 'person', 'person', 'person',\n",
       "                             'person', 'person', 'person', 'person', 'person', 'person', 'person',\n",
       "                             'person', 'person', 'person', 'person', 'person', 'person', 'person',\n",
       "                             'person', 'person', 'person', 'person', 'person', 'person', 'person',\n",
       "                             'person', 'person', 'person', 'person', 'person', 'person', 'person',\n",
       "                             'person', 'person', 'person', 'person', 'person', 'person', 'person',\n",
       "                             'person', 'person', 'person', 'person', 'person', 'person', 'person',\n",
       "                             'person', 'person', 'person', 'person', 'person', 'person', 'person',\n",
       "                             'person', 'person', 'person', 'person', 'person', 'person', 'person',\n",
       "                             'person', 'person', 'person'], dtype='<U6'),\n",
       "              'type': 'scatter',\n",
       "              'uid': '9ae4cba8-1271-4129-9755-8a7589da91f8',\n",
       "              'x': array([          0,        0.01,        0.02,        0.03,        0.04,\n",
       "                                 0.05,        0.06,        0.07,        0.08,        0.09,\n",
       "                                  0.1,        0.11,        0.12,        0.13,        0.14,\n",
       "                                 0.15,        0.16,        0.17,        0.18,        0.19,\n",
       "                                  0.2,        0.21,        0.22,        0.23,        0.24,\n",
       "                                 0.25,        0.26,        0.27,        0.28,        0.29,\n",
       "                                  0.3,        0.31,        0.32,        0.33,        0.34,\n",
       "                                 0.35,        0.36,        0.37,        0.38,        0.39,\n",
       "                                  0.4,        0.41,        0.42,        0.43,        0.44,\n",
       "                                 0.45,        0.46,        0.47,        0.48,        0.49,\n",
       "                                  0.5,        0.51,        0.52,        0.53,        0.54,\n",
       "                                 0.55,        0.56,        0.57,        0.58,        0.59,\n",
       "                                  0.6,        0.61,        0.62,        0.63,        0.64,\n",
       "                                 0.65,        0.66,        0.67,        0.68,        0.69,\n",
       "                                  0.7,        0.71,        0.72,        0.73,        0.74,\n",
       "                                 0.75,        0.76,        0.77,        0.78,        0.79,\n",
       "                                  0.8,        0.81,        0.82,        0.83,        0.84,\n",
       "                                 0.85,        0.86,        0.87,        0.88,        0.89,\n",
       "                                  0.9,        0.91,        0.92,        0.93,        0.94,\n",
       "                                 0.95,        0.96,        0.97,        0.98,        0.99,\n",
       "                                    1]),\n",
       "              'y': array([          1,     0.94192,     0.92625,      0.9138,     0.90743,\n",
       "                              0.90162,     0.87289,     0.86883,      0.8654,     0.86242,\n",
       "                              0.85851,      0.8549,      0.8504,     0.84561,     0.84079,\n",
       "                              0.83652,     0.83254,     0.82877,      0.8244,     0.76566,\n",
       "                              0.76348,     0.76128,     0.75891,     0.75605,     0.75395,\n",
       "                              0.75286,     0.67509,     0.67355,     0.67236,     0.58279,\n",
       "                              0.58203,     0.48814,     0.29483,           0,           0,\n",
       "                                    0,           0,           0,           0,           0,\n",
       "                                    0,           0,           0,           0,           0,\n",
       "                                    0,           0,           0,           0,           0,\n",
       "                                    0,           0,           0,           0,           0,\n",
       "                                    0,           0,           0,           0,           0,\n",
       "                                    0,           0,           0,           0,           0,\n",
       "                                    0,           0,           0,           0,           0,\n",
       "                                    0,           0,           0,           0,           0,\n",
       "                                    0,           0,           0,           0,           0,\n",
       "                                    0,           0,           0,           0,           0,\n",
       "                                    0,           0,           0,           0,           0,\n",
       "                                    0,           0,           0,           0,           0,\n",
       "                                    0,           0,           0,           0,           0,\n",
       "                                    0])},\n",
       "             {'customdata': array([    0.94231,     0.92022,     0.90576,     0.89006,     0.80768,\n",
       "                                       0.79992,     0.79233,     0.78077,     0.77126,     0.76331,\n",
       "                                       0.75489,     0.74304,     0.66034,     0.65443,      0.6484,\n",
       "                                       0.64011,      0.6342,     0.55125,     0.54565,      0.5395,\n",
       "                                       0.45894,     0.37956,     0.30055,           0,           0,\n",
       "                                             0,           0,           0,           0,           0,\n",
       "                                             0,           0,           0,           0,           0,\n",
       "                                             0,           0,           0,           0,           0,\n",
       "                                             0,           0,           0,           0,           0,\n",
       "                                             0,           0,           0,           0,           0,\n",
       "                                             0,           0,           0,           0,           0,\n",
       "                                             0,           0,           0,           0,           0,\n",
       "                                             0,           0,           0,           0,           0,\n",
       "                                             0,           0,           0,           0,           0,\n",
       "                                             0,           0,           0,           0,           0,\n",
       "                                             0,           0,           0,           0,           0,\n",
       "                                             0,           0,           0,           0,           0,\n",
       "                                             0,           0,           0,           0,           0,\n",
       "                                             0,           0,           0,           0,           0,\n",
       "                                             0,           0,           0,           0,           0,\n",
       "                                             0]),\n",
       "              'hovertemplate': ('<b>class: %{text}</b><br>recal' ... 'customdata:.3f}<extra></extra>'),\n",
       "              'line': {'color': '#DC3912'},\n",
       "              'mode': 'lines',\n",
       "              'name': 'car (AP = 0.175)',\n",
       "              'text': array(['car', 'car', 'car', 'car', 'car', 'car', 'car', 'car', 'car', 'car',\n",
       "                             'car', 'car', 'car', 'car', 'car', 'car', 'car', 'car', 'car', 'car',\n",
       "                             'car', 'car', 'car', 'car', 'car', 'car', 'car', 'car', 'car', 'car',\n",
       "                             'car', 'car', 'car', 'car', 'car', 'car', 'car', 'car', 'car', 'car',\n",
       "                             'car', 'car', 'car', 'car', 'car', 'car', 'car', 'car', 'car', 'car',\n",
       "                             'car', 'car', 'car', 'car', 'car', 'car', 'car', 'car', 'car', 'car',\n",
       "                             'car', 'car', 'car', 'car', 'car', 'car', 'car', 'car', 'car', 'car',\n",
       "                             'car', 'car', 'car', 'car', 'car', 'car', 'car', 'car', 'car', 'car',\n",
       "                             'car', 'car', 'car', 'car', 'car', 'car', 'car', 'car', 'car', 'car',\n",
       "                             'car', 'car', 'car', 'car', 'car', 'car', 'car', 'car', 'car', 'car',\n",
       "                             'car'], dtype='<U3'),\n",
       "              'type': 'scatter',\n",
       "              'uid': 'fda1ff30-c4a8-4319-ad1b-321e603f2f11',\n",
       "              'x': array([          0,        0.01,        0.02,        0.03,        0.04,\n",
       "                                 0.05,        0.06,        0.07,        0.08,        0.09,\n",
       "                                  0.1,        0.11,        0.12,        0.13,        0.14,\n",
       "                                 0.15,        0.16,        0.17,        0.18,        0.19,\n",
       "                                  0.2,        0.21,        0.22,        0.23,        0.24,\n",
       "                                 0.25,        0.26,        0.27,        0.28,        0.29,\n",
       "                                  0.3,        0.31,        0.32,        0.33,        0.34,\n",
       "                                 0.35,        0.36,        0.37,        0.38,        0.39,\n",
       "                                  0.4,        0.41,        0.42,        0.43,        0.44,\n",
       "                                 0.45,        0.46,        0.47,        0.48,        0.49,\n",
       "                                  0.5,        0.51,        0.52,        0.53,        0.54,\n",
       "                                 0.55,        0.56,        0.57,        0.58,        0.59,\n",
       "                                  0.6,        0.61,        0.62,        0.63,        0.64,\n",
       "                                 0.65,        0.66,        0.67,        0.68,        0.69,\n",
       "                                  0.7,        0.71,        0.72,        0.73,        0.74,\n",
       "                                 0.75,        0.76,        0.77,        0.78,        0.79,\n",
       "                                  0.8,        0.81,        0.82,        0.83,        0.84,\n",
       "                                 0.85,        0.86,        0.87,        0.88,        0.89,\n",
       "                                  0.9,        0.91,        0.92,        0.93,        0.94,\n",
       "                                 0.95,        0.96,        0.97,        0.98,        0.99,\n",
       "                                    1]),\n",
       "              'y': array([          1,     0.91199,     0.89845,     0.88426,     0.86961,\n",
       "                              0.86503,     0.85822,     0.84651,     0.83644,      0.8304,\n",
       "                              0.82451,     0.81545,     0.76276,     0.76043,     0.75376,\n",
       "                              0.75069,     0.74631,     0.66392,     0.66152,     0.65803,\n",
       "                              0.57011,     0.47711,     0.38264,           0,           0,\n",
       "                                    0,           0,           0,           0,           0,\n",
       "                                    0,           0,           0,           0,           0,\n",
       "                                    0,           0,           0,           0,           0,\n",
       "                                    0,           0,           0,           0,           0,\n",
       "                                    0,           0,           0,           0,           0,\n",
       "                                    0,           0,           0,           0,           0,\n",
       "                                    0,           0,           0,           0,           0,\n",
       "                                    0,           0,           0,           0,           0,\n",
       "                                    0,           0,           0,           0,           0,\n",
       "                                    0,           0,           0,           0,           0,\n",
       "                                    0,           0,           0,           0,           0,\n",
       "                                    0,           0,           0,           0,           0,\n",
       "                                    0,           0,           0,           0,           0,\n",
       "                                    0,           0,           0,           0,           0,\n",
       "                                    0,           0,           0,           0,           0,\n",
       "                                    0])}],\n",
       "    'layout': {'margin': {'b': 0, 'l': 0, 'r': 0, 't': 30},\n",
       "               'shapes': [{'line': {'dash': 'dash'}, 'type': 'line', 'x0': 0, 'x1': 1, 'y0': 1, 'y1': 0}],\n",
       "               'template': '...',\n",
       "               'xaxis': {'constrain': 'domain', 'range': [0, 1], 'title': {'text': 'Recall'}},\n",
       "               'yaxis': {'constrain': 'domain',\n",
       "                         'range': [0, 1],\n",
       "                         'scaleanchor': 'x',\n",
       "                         'scaleratio': 1,\n",
       "                         'title': {'text': 'Precision'}}}\n",
       "})"
      ]
     },
     "metadata": {},
     "output_type": "display_data"
    }
   ],
   "source": [
    "plot = results.plot_pr_curves(classes=[\"person\", \"car\"])\n",
    "plot.show()"
   ]
  },
  {
   "cell_type": "code",
   "execution_count": null,
   "id": "75cf2aae",
   "metadata": {},
   "outputs": [],
   "source": [
    "EVAL VIEWS"
   ]
  },
  {
   "cell_type": "code",
   "execution_count": null,
   "id": "64521fd3",
   "metadata": {},
   "outputs": [],
   "source": [
    "eval_patches = dataset.to_evaluation_patches(\"eval\")\n",
    "print(eval_patches)"
   ]
  },
  {
   "cell_type": "code",
   "execution_count": null,
   "id": "23400989",
   "metadata": {},
   "outputs": [],
   "source": [
    "# Show samples with most true positives\n",
    "session.view = high_conf_view.sort_by(\"eval_tp\", reverse=True)"
   ]
  },
  {
   "cell_type": "code",
   "execution_count": null,
   "id": "6a77810d",
   "metadata": {},
   "outputs": [],
   "source": [
    "# Show samples with most false positives\n",
    "session.view = high_conf_view.sort_by(\"eval_fp\", reverse=True)"
   ]
  },
  {
   "cell_type": "code",
   "execution_count": null,
   "id": "b529bb45",
   "metadata": {},
   "outputs": [],
   "source": [
    "# Compute metadata so we can reference image height/width in our view\n",
    "dataset.compute_metadata()"
   ]
  },
  {
   "cell_type": "code",
   "execution_count": null,
   "id": "e980a3bb",
   "metadata": {},
   "outputs": [],
   "source": [
    "#\n",
    "# Create an expression that will match objects whose bounding boxes have\n",
    "# area less than 32^2 pixels\n",
    "#\n",
    "# Bounding box format is [top-left-x, top-left-y, width, height]\n",
    "# with relative coordinates in [0, 1], so we multiply by image\n",
    "# dimensions to get pixel area\n",
    "#\n",
    "bbox_area = (\n",
    "    F(\"$metadata.width\") * F(\"bounding_box\")[2] *\n",
    "    F(\"$metadata.height\") * F(\"bounding_box\")[3]\n",
    ")\n",
    "small_boxes = bbox_area < 32 ** 2\n",
    "\n",
    "# Create a view that contains only small (and high confidence) predictions\n",
    "small_boxes_view = high_conf_view.filter_labels(\"faster_rcnn\", small_boxes)\n",
    "\n",
    "session.view = small_boxes_view"
   ]
  },
  {
   "cell_type": "code",
   "execution_count": null,
   "id": "867e8c47",
   "metadata": {},
   "outputs": [],
   "source": [
    "# Create a view that contains only small GT and predicted boxes\n",
    "small_boxes_eval_view = (\n",
    "    high_conf_view\n",
    "    .filter_labels(\"ground_truth\", small_boxes, only_matches=False)\n",
    "    .filter_labels(\"predictions\", small_boxes, only_matches=False)\n",
    ")\n",
    "\n",
    "# Run evaluation\n",
    "small_boxes_results = small_boxes_eval_view.evaluate_detections(\n",
    "    \"predictions\",\n",
    "    gt_field=\"ground_truth\",\n",
    ")"
   ]
  },
  {
   "cell_type": "code",
   "execution_count": null,
   "id": "a1212ddc",
   "metadata": {},
   "outputs": [],
   "source": [
    "# Get the 10 most common small object classes\n",
    "small_counts = small_boxes_eval_view.count_values(\"ground_truth.detections.label\")\n",
    "classes_top10_small = sorted(small_counts, key=counts.get, reverse=True)[:10]\n",
    "\n",
    "# Print a classification report for the top-10 small object classes\n",
    "small_boxes_results.print_report(classes=classes_top10_small)"
   ]
  }
 ],
 "metadata": {
  "kernelspec": {
   "display_name": "Python 3",
   "language": "python",
   "name": "python3"
  },
  "language_info": {
   "codemirror_mode": {
    "name": "ipython",
    "version": 3
   },
   "file_extension": ".py",
   "mimetype": "text/x-python",
   "name": "python",
   "nbconvert_exporter": "python",
   "pygments_lexer": "ipython3",
   "version": "3.9.18"
  }
 },
 "nbformat": 4,
 "nbformat_minor": 5
}
