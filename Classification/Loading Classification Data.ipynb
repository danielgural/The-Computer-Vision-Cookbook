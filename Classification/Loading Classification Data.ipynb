{
 "cells": [
  {
   "cell_type": "markdown",
   "id": "fa3854d6",
   "metadata": {},
   "source": [
    "# Loading Classification Data"
   ]
  },
  {
   "cell_type": "markdown",
   "id": "ad63cec4",
   "metadata": {},
   "source": [
    "FiftyOne has many awesome features to leverage in your AI workflows, but we all need to start somewhere! In this recipe, we will briefly show how to load Classification datasets in both a classification tree structure as well as from a CSV."
   ]
  },
  {
   "cell_type": "markdown",
   "id": "fae70db7",
   "metadata": {},
   "source": [
    "## Setup"
   ]
  },
  {
   "cell_type": "markdown",
   "id": "1cf6ab95",
   "metadata": {},
   "source": [
    "If you haven't already, install FiftyOne with the following:"
   ]
  },
  {
   "cell_type": "code",
   "execution_count": null,
   "id": "ac5bb006",
   "metadata": {},
   "outputs": [],
   "source": [
    "!pip install fiftyone"
   ]
  },
  {
   "cell_type": "markdown",
   "id": "c9d0b3b5",
   "metadata": {},
   "source": [
    "We will also be downloading some data from [Kaggle](https://www.kaggle.com/) for our example. Feel free to follow along by downloading using the API command below, downloading from the [link](https://www.kaggle.com/datasets/sshikamaru/fruit-recognition), or using your own data!"
   ]
  },
  {
   "cell_type": "code",
   "execution_count": null,
   "id": "47cb6ebd",
   "metadata": {},
   "outputs": [],
   "source": [
    "!kaggle datasets download -d sshikamaru/fruit-recognition"
   ]
  },
  {
   "cell_type": "code",
   "execution_count": null,
   "id": "ba349551",
   "metadata": {},
   "outputs": [],
   "source": [
    "!unzip fruit-recognition.zip -d fruit-recognition"
   ]
  },
  {
   "cell_type": "markdown",
   "id": "e1d76124",
   "metadata": {},
   "source": [
    "## Image Classification Directory Trees"
   ]
  },
  {
   "cell_type": "markdown",
   "id": "36f22570",
   "metadata": {},
   "source": [
    "Below we can see that our classification data is stored in directories with the name of the class that images belong to. In FiftyOne, we call this an `ImageClassificationDirectoryTree`."
   ]
  },
  {
   "cell_type": "code",
   "execution_count": 4,
   "id": "91faa5dc",
   "metadata": {},
   "outputs": [
    {
     "name": "stdout",
     "output_type": "stream",
     "text": [
      "'Apple Braeburn'       Clementine       Orange\t\t Pomegranate\r\n",
      "'Apple Granny Smith'   Corn\t        Papaya\t\t'Potato Red'\r\n",
      " Apricot\t      'Cucumber Ripe'  'Passion Fruit'\t Raspberry\r\n",
      " Avocado\t      'Grape Blue'      Peach\t\t Strawberry\r\n",
      " Banana\t\t       Kiwi\t        Pear\t\t Tomato\r\n",
      " Blueberry\t       Lemon\t       'Pepper Green'\t Watermelon\r\n",
      "'Cactus fruit'\t       Limes\t       'Pepper Red'\r\n",
      " Cantaloupe\t       Mango\t        Pineapple\r\n",
      " Cherry\t\t      'Onion White'     Plum\r\n"
     ]
    }
   ],
   "source": [
    "!ls fruit-recognition/train/train"
   ]
  },
  {
   "cell_type": "markdown",
   "id": "b51af38d",
   "metadata": {},
   "source": [
    "FiftyOne has a built-in data importer for [`ImageClassificationDirectoryTree`](https://docs.voxel51.com/user_guide/dataset_creation/datasets.html#imageclassificationdirectorytree) that we can leverage here! Using the code block below, we can quickly load in our of fruit dataset with all the labels attached."
   ]
  },
  {
   "cell_type": "code",
   "execution_count": null,
   "id": "3e173e65",
   "metadata": {},
   "outputs": [],
   "source": [
    "import fiftyone as fo\n",
    "\n",
    "name = \"Fruit Recognition\"\n",
    "dataset_dir = \"fruit-recognition/train/train\"\n",
    "\n",
    "# Create the dataset\n",
    "dataset = fo.Dataset.from_dir(\n",
    "    dataset_dir=dataset_dir,\n",
    "    dataset_type=fo.types.ImageClassificationDirectoryTree,\n",
    "    name=name,\n",
    ")\n",
    "\n",
    "session = fo.launch_app(dataset.shuffle())"
   ]
  },
  {
   "cell_type": "markdown",
   "id": "55f27ec4",
   "metadata": {},
   "source": [
    "![fruits](../assets/fruits.png)"
   ]
  },
  {
   "cell_type": "markdown",
   "id": "bcd7cc84",
   "metadata": {},
   "source": [
    "We can also verify the succesfuly importing of our dataset by printing our the dataset!"
   ]
  },
  {
   "cell_type": "code",
   "execution_count": 10,
   "id": "cd625750",
   "metadata": {},
   "outputs": [
    {
     "data": {
      "text/plain": [
       "Name:        Fruit Recognition\n",
       "Media type:  image\n",
       "Num samples: 16854\n",
       "Persistent:  False\n",
       "Tags:        []\n",
       "Sample fields:\n",
       "    id:           fiftyone.core.fields.ObjectIdField\n",
       "    filepath:     fiftyone.core.fields.StringField\n",
       "    tags:         fiftyone.core.fields.ListField(fiftyone.core.fields.StringField)\n",
       "    metadata:     fiftyone.core.fields.EmbeddedDocumentField(fiftyone.core.metadata.ImageMetadata)\n",
       "    ground_truth: fiftyone.core.fields.EmbeddedDocumentField(fiftyone.core.labels.Classification)"
      ]
     },
     "execution_count": 10,
     "metadata": {},
     "output_type": "execute_result"
    }
   ],
   "source": [
    "dataset"
   ]
  },
  {
   "cell_type": "markdown",
   "id": "2508ba8d",
   "metadata": {},
   "source": [
    "## Loading Classification Data from CSV/Pandas"
   ]
  },
  {
   "cell_type": "markdown",
   "id": "80cd6ac1",
   "metadata": {},
   "source": [
    "Sometimes classification data is stored in a different method that a directory tree. One of the most common alternatives is storing the classification data in a CSV or Pandas table. In order to handle these custom cases, we can easily build a custom ingestor that takes in our images and labels and creates a classification dataset. Once again to get started, we will be downloading from kaggle the [english-handwritten-characters-dataset](https://www.kaggle.com/datasets/dhruvildave/english-handwritten-characters-dataset)."
   ]
  },
  {
   "cell_type": "code",
   "execution_count": null,
   "id": "89003c26",
   "metadata": {},
   "outputs": [],
   "source": [
    "!kaggle datasets download -d dhruvildave/english-handwritten-characters-dataset"
   ]
  },
  {
   "cell_type": "code",
   "execution_count": null,
   "id": "6c92599b",
   "metadata": {},
   "outputs": [],
   "source": [
    "!unzip english-handwritten-characters-dataset.zip -d english-handwritten-characters-dataset"
   ]
  },
  {
   "cell_type": "markdown",
   "id": "6f8f2b6a",
   "metadata": {},
   "source": [
    "Unlike last time, the dataset is stored with a csv and a single directory of images. The CSV dictates the label that each image receives"
   ]
  },
  {
   "cell_type": "code",
   "execution_count": 9,
   "id": "25a0376b",
   "metadata": {},
   "outputs": [
    {
     "name": "stdout",
     "output_type": "stream",
     "text": [
      "english.csv  Img\r\n"
     ]
    }
   ],
   "source": [
    "!ls english-handwritten-characters-dataset"
   ]
  },
  {
   "cell_type": "markdown",
   "id": "7c9b4639",
   "metadata": {},
   "source": [
    "To begin, we can load in our csv to a pandas dataframe for easy use later. Print out the first few rows to get an idea of the shape of the table."
   ]
  },
  {
   "cell_type": "code",
   "execution_count": 11,
   "id": "be4abccd",
   "metadata": {},
   "outputs": [
    {
     "name": "stdout",
     "output_type": "stream",
     "text": [
      "                image label\n",
      "0  Img/img001-001.png     0\n",
      "1  Img/img001-002.png     0\n",
      "2  Img/img001-003.png     0\n",
      "3  Img/img001-004.png     0\n",
      "4  Img/img001-005.png     0\n"
     ]
    }
   ],
   "source": [
    "import pandas as pd\n",
    "\n",
    "# Load the labels CSV file into a DataFrame\n",
    "df = pd.read_csv(\"english-handwritten-characters-dataset/english.csv\")\n",
    "\n",
    "# Print the first few rows (head) of the DataFrame\n",
    "print(df.head())"
   ]
  },
  {
   "cell_type": "markdown",
   "id": "e8251939",
   "metadata": {},
   "source": [
    "Next, we create a dataset that will be the base of our new classification dataset. We use `fo.Dataset.from_dir` to load in our images directory, `Img`, into FiftyOne _without_ labels to start. We will add them in after this step! We can see when we launch the app here that there are no labels yet."
   ]
  },
  {
   "cell_type": "code",
   "execution_count": null,
   "id": "1c0ab1cf",
   "metadata": {},
   "outputs": [],
   "source": [
    "name = \"English Handwriting\"\n",
    "dataset_dir = \"english-handwritten-characters-dataset/Img\"\n",
    "\n",
    "# Create the dataset\n",
    "dataset = fo.Dataset.from_dir(\n",
    "    dataset_dir=dataset_dir,\n",
    "    dataset_type=fo.types.ImageDirectory,\n",
    "    name=name,\n",
    ")\n",
    "\n",
    "session = fo.launch_app(dataset)"
   ]
  },
  {
   "cell_type": "markdown",
   "id": "d1e8e3c3",
   "metadata": {},
   "source": [
    "![class-no-labels](../assets/class-no-labels.png)"
   ]
  },
  {
   "cell_type": "markdown",
   "id": "8fc39a67",
   "metadata": {},
   "source": [
    "Now it is time to add our classification labels into our dataset! To accomplish this, we iterate through each sample in our dataset and grab the corresponding label from our Pandas DataFrame. We can add any field to a sample, even [classification labels](https://docs.voxel51.com/user_guide/using_datasets.html#classification), by using `sample[\"field_name\"] = value`. Let's go ahead and load those labels in and visualize our results!"
   ]
  },
  {
   "cell_type": "code",
   "execution_count": null,
   "id": "bc1c88ea",
   "metadata": {},
   "outputs": [],
   "source": [
    "for sample in dataset:\n",
    "\n",
    "    # Grab file name to lookup in Pandas DataFrame\n",
    "    image_name = \"Img/\" + sample.filepath.split(\"/\")[-1]\n",
    "    \n",
    "    row = df[df[\"image\"] == image_name]\n",
    "    \n",
    "    # If the row was found, continue\n",
    "    if len(row) > 0:\n",
    "        \n",
    "        # Grab the label\n",
    "        label = row[\"label\"].item()\n",
    "        \n",
    "        # Add the label to your sample\n",
    "        sample[\"ground_truth\"] = fo.Classification(label=label)\n",
    "        sample.save()\n",
    "\n",
    "session.show()"
   ]
  },
  {
   "cell_type": "markdown",
   "id": "16eb0c7f",
   "metadata": {},
   "source": [
    "![class-labels](../assets/class-labels.png)"
   ]
  }
 ],
 "metadata": {
  "kernelspec": {
   "display_name": "Python 3",
   "language": "python",
   "name": "python3"
  },
  "language_info": {
   "codemirror_mode": {
    "name": "ipython",
    "version": 3
   },
   "file_extension": ".py",
   "mimetype": "text/x-python",
   "name": "python",
   "nbconvert_exporter": "python",
   "pygments_lexer": "ipython3",
   "version": "3.9.18"
  }
 },
 "nbformat": 4,
 "nbformat_minor": 5
}
