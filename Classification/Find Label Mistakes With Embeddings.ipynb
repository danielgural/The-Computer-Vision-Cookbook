{
 "cells": [
  {
   "cell_type": "markdown",
   "id": "3e14b48a",
   "metadata": {},
   "source": [
    "# Find Label Mistakes With Embeddings"
   ]
  },
  {
   "cell_type": "markdown",
   "id": "bc08bf33",
   "metadata": {},
   "source": [
    "FiftyOne provides a powerful [embeddings visualization](https://docs.voxel51.com/user_guide/brain.html#visualizing-embeddings) capability that you can use to generate low-dimensional representations of the samples and objects in your datasets. By leveraging embeddings you can identify anomolous/incorrect image labels that our hiding in your dataset. Let's find out how!"
   ]
  },
  {
   "cell_type": "markdown",
   "id": "bc7c20ff",
   "metadata": {},
   "source": [
    "## Setup"
   ]
  },
  {
   "cell_type": "markdown",
   "id": "d09ebadf",
   "metadata": {},
   "source": [
    "If you haven’t already, install FiftyOne:"
   ]
  },
  {
   "cell_type": "code",
   "execution_count": null,
   "id": "e45faf01",
   "metadata": {},
   "outputs": [],
   "source": [
    "!pip install fiftyone"
   ]
  },
  {
   "cell_type": "markdown",
   "id": "fe75fa97",
   "metadata": {},
   "source": [
    "In this tutorial, we’ll use Hugging Face Hub Integration, some PyTorch models to generate embeddings, and we’ll use the (default) [UMAP method](https://github.com/lmcinnes/umap) to generate embeddings, so we’ll need to install the corresponding packages:"
   ]
  },
  {
   "cell_type": "code",
   "execution_count": null,
   "id": "36ff3a29",
   "metadata": {},
   "outputs": [],
   "source": [
    "!pip install torch torchvision umap-learn \"huggingface_hub>=0.20.0\""
   ]
  },
  {
   "cell_type": "markdown",
   "id": "4a1d1897",
   "metadata": {},
   "source": [
    "## Loading BDD100k"
   ]
  },
  {
   "cell_type": "markdown",
   "id": "b9b66ef7",
   "metadata": {},
   "source": [
    "We will be using the [Berkeley Deep Drive (BDD)](https://huggingface.co/datasets/dgural/bdd100k) dataset as our example for this recipe. It is a high quality driving dataset that includes several label types, including classification labels! We can load it in FiftyOne format directly from [HuggingFace Hub](https://docs.voxel51.com/integrations/huggingface.html#loading-datasets-from-the-hub)!"
   ]
  },
  {
   "cell_type": "code",
   "execution_count": null,
   "id": "a042b118",
   "metadata": {},
   "outputs": [],
   "source": [
    "import fiftyone as fo\n",
    "import fiftyone.zoo as foz\n",
    "import fiftyone.utils.huggingface as fouh\n",
    "\n",
    "dataset = fouh.load_from_hub(\"dgural/bdd100k\")\n",
    "\n",
    "session = fo.launch_app(dataset)"
   ]
  },
  {
   "cell_type": "markdown",
   "id": "c4bc4dd9",
   "metadata": {},
   "source": [
    "![bdd100k](../assets/bdd100k.png)"
   ]
  },
  {
   "cell_type": "markdown",
   "id": "4698e8fe",
   "metadata": {},
   "source": [
    "Our next step is to add our embedding visualization using [`fob.compute_visualization`](https://docs.voxel51.com/api/fiftyone.brain.html?highlight=compute_visualization#fiftyone.brain.compute_visualization)! We will use a strong embedding model like OpenAI's CLIP model to generate our embeddings and use UMAP to generate the 2D visualization. If interested, learn more about visualizing embeddings [here](https://docs.voxel51.com/user_guide/brain.html#visualizing-embeddings)!"
   ]
  },
  {
   "cell_type": "markdown",
   "id": "d19f8af8",
   "metadata": {},
   "source": [
    "## Using Embeddings"
   ]
  },
  {
   "cell_type": "code",
   "execution_count": null,
   "id": "e604c93e",
   "metadata": {},
   "outputs": [],
   "source": [
    "import fiftyone.brain as fob\n",
    "\n",
    "results = fob.compute_visualization(\n",
    "    dataset,\n",
    "    model=\"clip-vit-base32-torch\",\n",
    "    brain_key=\"img_viz\",\n",
    ")"
   ]
  },
  {
   "cell_type": "markdown",
   "id": "6ddfb637",
   "metadata": {},
   "source": [
    "We can then open up our app again and view our embeddings using the embeddings tab! We can also go ahead and color them by `timeofday.label`"
   ]
  },
  {
   "cell_type": "code",
   "execution_count": null,
   "id": "4433d94d",
   "metadata": {},
   "outputs": [],
   "source": [
    "session.show()"
   ]
  },
  {
   "cell_type": "markdown",
   "id": "2268d727",
   "metadata": {},
   "source": [
    "![open-embeddings](../assets/open-bdd-embeddings.gif)"
   ]
  },
  {
   "cell_type": "markdown",
   "id": "0ed3b582",
   "metadata": {},
   "source": [
    "You can even split the view to begin lasso selecting groups of samples!"
   ]
  },
  {
   "cell_type": "markdown",
   "id": "1fca7dba",
   "metadata": {},
   "source": [
    "![lasso-embeddings](../assets/lasso-select.gif)"
   ]
  },
  {
   "cell_type": "markdown",
   "id": "a7e0beb5",
   "metadata": {},
   "source": [
    "## Finding Mistakes"
   ]
  },
  {
   "cell_type": "markdown",
   "id": "a5608e36",
   "metadata": {},
   "source": [
    "In order to find mistakes, we need to dive a little deeper into our embeddings. Luckily, finding classification mistakes with embeddings + FiftyOne is easy! We start by looking for outliers based on the colors of their labels. You can even turn on and off classes to make this even easier!"
   ]
  },
  {
   "cell_type": "markdown",
   "id": "20d4b024",
   "metadata": {},
   "source": [
    "![find-mistakes](../assets/find-class-mistakes-embeddings.gif)"
   ]
  },
  {
   "cell_type": "markdown",
   "id": "e0752ba9",
   "metadata": {},
   "source": [
    "When we turn of every class but the night class above, we can find many `night` samples that were hiding amongst the samples labeled `day`! Closer inspection finds that many of these of these are actually mislabeled `day` samples! In FiftyOne, we can tag our samples and export them for annotation job with one of labeling integrations: [CVAT](https://docs.voxel51.com/integrations/cvat.html), [Label Studio](https://docs.voxel51.com/integrations/labelstudio.html), [V7](https://docs.voxel51.com/integrations/v7.html), or [LabelBox](https://docs.voxel51.com/integrations/labelbox.html)!"
   ]
  }
 ],
 "metadata": {
  "kernelspec": {
   "display_name": "Python 3",
   "language": "python",
   "name": "python3"
  },
  "language_info": {
   "codemirror_mode": {
    "name": "ipython",
    "version": 3
   },
   "file_extension": ".py",
   "mimetype": "text/x-python",
   "name": "python",
   "nbconvert_exporter": "python",
   "pygments_lexer": "ipython3",
   "version": "3.9.18"
  }
 },
 "nbformat": 4,
 "nbformat_minor": 5
}
