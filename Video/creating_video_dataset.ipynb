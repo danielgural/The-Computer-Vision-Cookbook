{
 "cells": [
  {
   "cell_type": "markdown",
   "metadata": {},
   "source": [
    "## Creating a Video Dataset from YouTube Videos"
   ]
  },
  {
   "cell_type": "markdown",
   "metadata": {},
   "source": [
    "Use `pytube` to download "
   ]
  },
  {
   "cell_type": "code",
   "execution_count": null,
   "metadata": {},
   "outputs": [],
   "source": [
    "!pip install fiftyone pytube"
   ]
  },
  {
   "cell_type": "code",
   "execution_count": 2,
   "metadata": {},
   "outputs": [],
   "source": [
    "import os\n",
    "import shutil\n",
    "\n",
    "import fiftyone as fo\n",
    "import eta.core.utils as etau\n",
    "\n",
    "from pytube import YouTube"
   ]
  },
  {
   "cell_type": "code",
   "execution_count": 3,
   "metadata": {},
   "outputs": [],
   "source": [
    "DATASET_NAME = 'baskeball-clips'"
   ]
  },
  {
   "cell_type": "code",
   "execution_count": 4,
   "metadata": {},
   "outputs": [],
   "source": [
    "data_dir = os.path.join(fo.get_default_dataset_dir(DATASET_NAME), 'data')\n",
    "os.makedirs(data_dir, exist_ok=True)"
   ]
  },
  {
   "cell_type": "code",
   "execution_count": 5,
   "metadata": {},
   "outputs": [],
   "source": [
    "VIDEO_URLS = [\n",
    "    \"https://www.youtube.com/shorts/3QjfVU5kZXA\",\n",
    "    \"https://www.youtube.com/shorts/W_Y34ep90XA\",\n",
    "    \"https://www.youtube.com/watch?v=fn2BmgQno4c\",\n",
    "    \"https://www.youtube.com/watch?v=1FLPquyyuk8\"\n",
    "]"
   ]
  },
  {
   "cell_type": "code",
   "execution_count": 6,
   "metadata": {},
   "outputs": [],
   "source": [
    "def _url_to_path(url):\n",
    "    uuid = url.split('/')[-1].split('=')[-1]\n",
    "    return os.path.join(data_dir, f\"{uuid}.mp4\")"
   ]
  },
  {
   "cell_type": "code",
   "execution_count": 7,
   "metadata": {},
   "outputs": [],
   "source": [
    "def download_video(url):\n",
    "    video_path = os.path.join(data_dir, _url_to_path(url))\n",
    "    if os.path.exists(video_path):\n",
    "        return video_path\n",
    "\n",
    "    try:\n",
    "        yt = YouTube(url)\n",
    "    except:\n",
    "        print(f\"Connection Error for {url}\")\n",
    "\n",
    "    mp4_streams = (\n",
    "        yt.streams.filter(file_extension=\"mp4\", mime_type=\"video/mp4\")\n",
    "        .order_by(\"resolution\")\n",
    "        .desc()\n",
    "    )\n",
    "    d_video = mp4_streams[0]  # download video with highest resolution\n",
    "\n",
    "    with etau.TempDir() as tmp_dir:\n",
    "        try:\n",
    "            tmp_path = d_video.download(tmp_dir)\n",
    "            shutil.move(tmp_path, video_path)\n",
    "        except Exception as e:\n",
    "            print(f\"Error downloading {url}: {e}\")\n",
    "\n",
    "    return video_path"
   ]
  },
  {
   "cell_type": "code",
   "execution_count": 8,
   "metadata": {},
   "outputs": [],
   "source": [
    "dataset = fo.Dataset(name=DATASET_NAME, overwrite=True)"
   ]
  },
  {
   "cell_type": "code",
   "execution_count": 9,
   "metadata": {},
   "outputs": [
    {
     "name": "stdout",
     "output_type": "stream",
     "text": [
      " 100% |█████████████████████| 4/4 [56.3ms elapsed, 0s remaining, 71.1 samples/s]      \n"
     ]
    },
    {
     "data": {
      "text/plain": [
       "['6642a931cbd9a95f4892cca7',\n",
       " '6642a931cbd9a95f4892cca8',\n",
       " '6642a931cbd9a95f4892cca9',\n",
       " '6642a931cbd9a95f4892ccaa']"
      ]
     },
     "execution_count": 9,
     "metadata": {},
     "output_type": "execute_result"
    }
   ],
   "source": [
    "samples = []\n",
    "for url in VIDEO_URLS:\n",
    "    video_path = download_video(url)\n",
    "    sample = fo.Sample(filepath=video_path, url=url)\n",
    "    samples.append(sample)\n",
    "\n",
    "dataset.add_samples(samples)"
   ]
  },
  {
   "cell_type": "code",
   "execution_count": 10,
   "metadata": {},
   "outputs": [
    {
     "name": "stdout",
     "output_type": "stream",
     "text": [
      "Session launched. Run `session.show()` to open the App in a cell output.\n"
     ]
    }
   ],
   "source": [
    "session = fo.launch_app(dataset, auto=False)"
   ]
  },
  {
   "cell_type": "markdown",
   "metadata": {},
   "source": [
    "![Video Dataset](../assets/video_dataset.gif)"
   ]
  },
  {
   "cell_type": "code",
   "execution_count": 11,
   "metadata": {},
   "outputs": [
    {
     "name": "stdout",
     "output_type": "stream",
     "text": [
      "Computing metadata...\n",
      " 100% |█████████████████████| 4/4 [134.1ms elapsed, 0s remaining, 29.8 samples/s] \n"
     ]
    }
   ],
   "source": [
    "dataset.ensure_frames()"
   ]
  },
  {
   "cell_type": "code",
   "execution_count": 17,
   "metadata": {},
   "outputs": [
    {
     "name": "stdout",
     "output_type": "stream",
     "text": [
      "<Sample: {\n",
      "    'id': '6642a931cbd9a95f4892cca7',\n",
      "    'media_type': 'video',\n",
      "    'filepath': '/Users/jacobmarks/fiftyone/baskeball-clips/data/3QjfVU5kZXA.mp4',\n",
      "    'tags': [],\n",
      "    'metadata': <VideoMetadata: {\n",
      "        'size_bytes': 9377284,\n",
      "        'mime_type': 'video/mp4',\n",
      "        'frame_width': 1080,\n",
      "        'frame_height': 1920,\n",
      "        'frame_rate': 30.0,\n",
      "        'total_frame_count': 591,\n",
      "        'duration': 19.7,\n",
      "        'encoding_str': 'avc1',\n",
      "    }>,\n",
      "    'url': 'https://www.youtube.com/shorts/3QjfVU5kZXA',\n",
      "    'frames': <Frames: 591>,\n",
      "}>\n"
     ]
    }
   ],
   "source": [
    "sample = dataset.first()\n",
    "\n",
    "print(sample)"
   ]
  },
  {
   "cell_type": "code",
   "execution_count": 22,
   "metadata": {},
   "outputs": [
    {
     "name": "stdout",
     "output_type": "stream",
     "text": [
      "<Frame: {'id': '6642a965c3ebe644a163ddcd', 'frame_number': 1}>\n",
      "<Frame: {'id': '6642a965c3ebe644a163e01b', 'frame_number': 591}>\n"
     ]
    }
   ],
   "source": [
    "## frames are 1-indexed\n",
    "print(sample.frames[1]) ## frame 1\n",
    "print(sample.frames[sample.metadata.total_frame_count]) ## last frame"
   ]
  }
 ],
 "metadata": {
  "kernelspec": {
   "display_name": "fdev",
   "language": "python",
   "name": "python3"
  },
  "language_info": {
   "codemirror_mode": {
    "name": "ipython",
    "version": 3
   },
   "file_extension": ".py",
   "mimetype": "text/x-python",
   "name": "python",
   "nbconvert_exporter": "python",
   "pygments_lexer": "ipython3",
   "version": "3.9.0"
  }
 },
 "nbformat": 4,
 "nbformat_minor": 2
}
