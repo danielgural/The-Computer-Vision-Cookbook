{
 "cells": [
  {
   "cell_type": "markdown",
   "metadata": {},
   "source": [
    "# Video Object Detection and Tracking"
   ]
  },
  {
   "cell_type": "code",
   "execution_count": null,
   "metadata": {},
   "outputs": [],
   "source": [
    "!pip install -U fiftyone ultralytics deep-sort-realtime"
   ]
  },
  {
   "cell_type": "markdown",
   "metadata": {},
   "source": [
    "Load an example video dataset and delete the ground truth fields to show how to use the video object detection and tracking API:"
   ]
  },
  {
   "cell_type": "code",
   "execution_count": 1,
   "metadata": {},
   "outputs": [
    {
     "name": "stdout",
     "output_type": "stream",
     "text": [
      "Dataset already downloaded\n",
      "Loading existing dataset 'quickstart-video'. To reload from disk, either delete the existing dataset or provide a custom `dataset_name` to use\n"
     ]
    }
   ],
   "source": [
    "import fiftyone as fo\n",
    "import fiftyone.zoo as foz\n",
    "from fiftyone import ViewField as F\n",
    "dataset = foz.load_zoo_dataset(\"quickstart-video\")\n",
    "dataset.select_fields().keep_fields()"
   ]
  },
  {
   "cell_type": "code",
   "execution_count": 2,
   "metadata": {},
   "outputs": [
    {
     "name": "stdout",
     "output_type": "stream",
     "text": [
      "Session launched. Run `session.show()` to open the App in a cell output.\n"
     ]
    }
   ],
   "source": [
    "session = fo.launch_app(dataset, auto=False)"
   ]
  },
  {
   "cell_type": "markdown",
   "metadata": {},
   "source": [
    "Download and load an object detection model (YOLOv8l) from Ultralytics:"
   ]
  },
  {
   "cell_type": "code",
   "execution_count": 4,
   "metadata": {},
   "outputs": [
    {
     "name": "stdout",
     "output_type": "stream",
     "text": [
      "Downloading https://github.com/ultralytics/assets/releases/download/v8.1.0/yolov8l.pt to 'yolov8l.pt'...\n"
     ]
    },
    {
     "name": "stderr",
     "output_type": "stream",
     "text": [
      "100%|██████████| 83.7M/83.7M [00:14<00:00, 6.02MB/s]\n"
     ]
    }
   ],
   "source": [
    "from ultralytics import YOLO\n",
    "model = YOLO('yolov8l.pt')"
   ]
  },
  {
   "cell_type": "markdown",
   "metadata": {},
   "source": [
    "Apply the model to all frames across all videos in the dataset:"
   ]
  },
  {
   "cell_type": "code",
   "execution_count": 5,
   "metadata": {},
   "outputs": [
    {
     "name": "stdout",
     "output_type": "stream",
     "text": [
      "Computing metadata...\n",
      " 100% |███████████████████| 10/10 [166.4ms elapsed, 0s remaining, 60.1 samples/s] \n",
      " 100% |███████████████| 1279/1279 [5.3m elapsed, 0s remaining, 4.1 samples/s]       \n"
     ]
    }
   ],
   "source": [
    "dataset.apply_model(model, label_field=\"yolo_v8l\")"
   ]
  },
  {
   "cell_type": "code",
   "execution_count": 6,
   "metadata": {},
   "outputs": [],
   "source": [
    "session.refresh()"
   ]
  },
  {
   "cell_type": "markdown",
   "metadata": {},
   "source": [
    "Inspect the first frame of the first video:"
   ]
  },
  {
   "cell_type": "code",
   "execution_count": 9,
   "metadata": {},
   "outputs": [
    {
     "data": {
      "text/plain": [
       "<Frame: {\n",
       "    'id': '66421a3d44b3ca4add818000',\n",
       "    'frame_number': 1,\n",
       "    'yolo_v8l': <Detections: {\n",
       "        'detections': [\n",
       "            <Detection: {\n",
       "                'id': '66436ef9307856cf2faaec5b',\n",
       "                'attributes': {},\n",
       "                'tags': [],\n",
       "                'label': 'stop sign',\n",
       "                'bounding_box': [\n",
       "                    0.9099450334906578,\n",
       "                    0.4144589528441429,\n",
       "                    0.06314297020435333,\n",
       "                    0.1033763438463211,\n",
       "                ],\n",
       "                'mask': None,\n",
       "                'confidence': 0.911078155040741,\n",
       "                'index': None,\n",
       "            }>,\n",
       "            <Detection: {\n",
       "                'id': '66436ef9307856cf2faaec5c',\n",
       "                'attributes': {},\n",
       "                'tags': [],\n",
       "                'label': 'car',\n",
       "                'bounding_box': [\n",
       "                    0.8739790096879005,\n",
       "                    0.7539754882454872,\n",
       "                    0.1255653351545334,\n",
       "                    0.2387741059064865,\n",
       "                ],\n",
       "                'mask': None,\n",
       "                'confidence': 0.8871062397956848,\n",
       "                'index': None,\n",
       "            }>,\n",
       "            <Detection: {\n",
       "                'id': '66436ef9307856cf2faaec5d',\n",
       "                'attributes': {},\n",
       "                'tags': [],\n",
       "                'label': 'truck',\n",
       "                'bounding_box': [\n",
       "                    0.33904749155044556,\n",
       "                    0.3334283232688904,\n",
       "                    0.2704291343688965,\n",
       "                    0.5093774795532227,\n",
       "                ],\n",
       "                'mask': None,\n",
       "                'confidence': 0.8568296432495117,\n",
       "                'index': None,\n",
       "            }>,\n",
       "            <Detection: {\n",
       "                'id': '66436ef9307856cf2faaec5e',\n",
       "                'attributes': {},\n",
       "                'tags': [],\n",
       "                'label': 'bus',\n",
       "                'bounding_box': [\n",
       "                    0.33786411583423615,\n",
       "                    0.3333189785480499,\n",
       "                    0.27143725752830505,\n",
       "                    0.5103011727333069,\n",
       "                ],\n",
       "                'mask': None,\n",
       "                'confidence': 0.36874091625213623,\n",
       "                'index': None,\n",
       "            }>,\n",
       "            <Detection: {\n",
       "                'id': '66436ef9307856cf2faaec5f',\n",
       "                'attributes': {},\n",
       "                'tags': [],\n",
       "                'label': 'person',\n",
       "                'bounding_box': [\n",
       "                    0.6005622148513794,\n",
       "                    0.5816217064857483,\n",
       "                    0.019620895385742188,\n",
       "                    0.10787856578826904,\n",
       "                ],\n",
       "                'mask': None,\n",
       "                'confidence': 0.287156879901886,\n",
       "                'index': None,\n",
       "            }>,\n",
       "            <Detection: {\n",
       "                'id': '66436ef9307856cf2faaec60',\n",
       "                'attributes': {},\n",
       "                'tags': [],\n",
       "                'label': 'person',\n",
       "                'bounding_box': [\n",
       "                    0.6306181428954005,\n",
       "                    0.5863930769264698,\n",
       "                    0.01354827918112278,\n",
       "                    0.08303459733724594,\n",
       "                ],\n",
       "                'mask': None,\n",
       "                'confidence': 0.263094425201416,\n",
       "                'index': None,\n",
       "            }>,\n",
       "        ],\n",
       "    }>,\n",
       "}>"
      ]
     },
     "execution_count": 9,
     "metadata": {},
     "output_type": "execute_result"
    }
   ],
   "source": [
    "dataset.first().frames[1]"
   ]
  },
  {
   "cell_type": "markdown",
   "metadata": {},
   "source": [
    "Filter for just high confidence detections:"
   ]
  },
  {
   "cell_type": "code",
   "execution_count": 19,
   "metadata": {},
   "outputs": [
    {
     "name": "stdout",
     "output_type": "stream",
     "text": [
      "10813\n",
      "3708\n"
     ]
    }
   ],
   "source": [
    "from fiftyone import ViewField as F\n",
    "view = dataset.filter_labels(\"frames.yolo_v8l\", F(\"confidence\") > 0.75)\n",
    "\n",
    "print(dataset.count(\"frames.yolo_v8l.detections\"))\n",
    "print(view.count(\"frames.yolo_v8l.detections\"))"
   ]
  },
  {
   "cell_type": "markdown",
   "metadata": {},
   "source": [
    "Track objects across frames using DeepSort (this might take a while):"
   ]
  },
  {
   "cell_type": "code",
   "execution_count": 20,
   "metadata": {},
   "outputs": [
    {
     "name": "stdout",
     "output_type": "stream",
     "text": [
      " 100% |███████████████████| 10/10 [14.8m elapsed, 0s remaining, 0.0 samples/s]   \n"
     ]
    }
   ],
   "source": [
    "from fiftyone.utils.tracking import DeepSort\n",
    "\n",
    "DeepSort.track(dataset, \"frames.yolo_v8l\")"
   ]
  },
  {
   "cell_type": "code",
   "execution_count": 21,
   "metadata": {},
   "outputs": [],
   "source": [
    "session.refresh()"
   ]
  },
  {
   "cell_type": "markdown",
   "metadata": {},
   "source": [
    "![Video Tracking](../assets/video_tracking.gif)"
   ]
  },
  {
   "cell_type": "markdown",
   "metadata": {},
   "source": [
    "View tracks one by one:"
   ]
  },
  {
   "cell_type": "code",
   "execution_count": 24,
   "metadata": {},
   "outputs": [],
   "source": [
    "tracks_view = dataset.to_trajectories(\"frames.ds_tracks\")"
   ]
  },
  {
   "cell_type": "code",
   "execution_count": 80,
   "metadata": {},
   "outputs": [],
   "source": [
    "session.view = tracks_view.view()"
   ]
  },
  {
   "cell_type": "markdown",
   "metadata": {},
   "source": [
    "![Video Trajectories](../assets/video_trajectories.gif)"
   ]
  },
  {
   "cell_type": "markdown",
   "metadata": {},
   "source": []
  }
 ],
 "metadata": {
  "kernelspec": {
   "display_name": "fdev",
   "language": "python",
   "name": "python3"
  },
  "language_info": {
   "codemirror_mode": {
    "name": "ipython",
    "version": 3
   },
   "file_extension": ".py",
   "mimetype": "text/x-python",
   "name": "python",
   "nbconvert_exporter": "python",
   "pygments_lexer": "ipython3",
   "version": "3.9.0"
  }
 },
 "nbformat": 4,
 "nbformat_minor": 2
}
