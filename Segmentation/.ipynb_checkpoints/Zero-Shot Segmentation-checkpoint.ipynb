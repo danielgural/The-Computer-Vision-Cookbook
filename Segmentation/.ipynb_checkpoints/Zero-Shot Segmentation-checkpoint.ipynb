{
 "cells": [
  {
   "cell_type": "code",
   "execution_count": null,
   "id": "d8fd9eba",
   "metadata": {},
   "outputs": [],
   "source": [
    "!fiftyone plugins download https://github.com/jacobmarks/zero-shot-prediction-plugin"
   ]
  },
  {
   "cell_type": "markdown",
   "id": "508fb400",
   "metadata": {},
   "source": [
    "If you want to use SAM, you will also need to install the segment-anything library:"
   ]
  },
  {
   "cell_type": "code",
   "execution_count": null,
   "id": "92dc378f",
   "metadata": {},
   "outputs": [],
   "source": [
    "!pip install segment-anything"
   ]
  },
  {
   "cell_type": "markdown",
   "id": "4c520370",
   "metadata": {},
   "source": [
    "If you want to use OpenCLIP, you will also need to install the open_clip library from PyPI:"
   ]
  },
  {
   "cell_type": "code",
   "execution_count": null,
   "id": "068e815b",
   "metadata": {},
   "outputs": [],
   "source": [
    "!pip install open-clip-torch"
   ]
  },
  {
   "cell_type": "markdown",
   "id": "755baa06",
   "metadata": {},
   "source": [
    "If you want to use YOLO-World, you will also need to install the ultralytics library:"
   ]
  },
  {
   "cell_type": "code",
   "execution_count": null,
   "id": "233c6366",
   "metadata": {},
   "outputs": [],
   "source": [
    "!pip install -U ultralytics"
   ]
  },
  {
   "cell_type": "code",
   "execution_count": 1,
   "id": "f834b3b4",
   "metadata": {},
   "outputs": [
    {
     "name": "stdout",
     "output_type": "stream",
     "text": [
      "Downloading split 'validation' to '/home/dan/fiftyone/coco-2017/validation' if necessary\n",
      "Found annotations at '/home/dan/fiftyone/coco-2017/raw/instances_val2017.json'\n",
      "Sufficient images already downloaded\n",
      "Existing download of split 'validation' is sufficient\n",
      "Loading existing dataset 'coco-2017-validation-1000'. To reload from disk, either delete the existing dataset or provide a custom `dataset_name` to use\n"
     ]
    }
   ],
   "source": [
    "import fiftyone as fo\n",
    "import fiftyone.zoo as foz\n",
    "\n",
    "dataset = foz.load_zoo_dataset(\"coco-2017\", split=\"validation\", max_samples=1000)"
   ]
  },
  {
   "cell_type": "code",
   "execution_count": 2,
   "id": "02867bc1",
   "metadata": {},
   "outputs": [
    {
     "name": "stdout",
     "output_type": "stream",
     "text": [
      "Connected to FiftyOne on port 5151 at localhost.\n",
      "If you are not connecting to a remote session, you may need to start a new session and specify a port\n"
     ]
    },
    {
     "data": {
      "text/html": [
       "\n",
       "        <iframe\n",
       "            width=\"100%\"\n",
       "            height=\"800\"\n",
       "            src=\"http://localhost:5151/?notebook=True&subscription=83e60fd8-03bd-4554-9ff9-b7406c0e02ce\"\n",
       "            frameborder=\"0\"\n",
       "            allowfullscreen\n",
       "            \n",
       "        ></iframe>\n",
       "        "
      ],
      "text/plain": [
       "<IPython.lib.display.IFrame at 0x76c4d0a578e0>"
      ]
     },
     "metadata": {},
     "output_type": "display_data"
    }
   ],
   "source": [
    "session = fo.launch_app(dataset)"
   ]
  }
 ],
 "metadata": {
  "kernelspec": {
   "display_name": "Python 3",
   "language": "python",
   "name": "python3"
  },
  "language_info": {
   "codemirror_mode": {
    "name": "ipython",
    "version": 3
   },
   "file_extension": ".py",
   "mimetype": "text/x-python",
   "name": "python",
   "nbconvert_exporter": "python",
   "pygments_lexer": "ipython3",
   "version": "3.9.18"
  }
 },
 "nbformat": 4,
 "nbformat_minor": 5
}
