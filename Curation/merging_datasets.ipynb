{
 "cells": [
  {
   "cell_type": "markdown",
   "metadata": {},
   "source": [
    "# Merging Datasets\n",
    "\n",
    "This recipe demonstrates a simple pattern for merging FiftyOne Datasets via [Dataset.merge_samples()](https://voxel51.com/docs/fiftyone/api/fiftyone.core.dataset.html?highlight=merge_samples#fiftyone.core.dataset.Dataset.merge_samples).\n",
    "\n",
    "Merging datasets is an easy way to:\n",
    "\n",
    "-   Combine multiple datasets with information about the same underlying raw media (images and videos)\n",
    "-   Add model predictions to a FiftyOne dataset, to compare with ground truth annotations and/or other models\n",
    "\n",
    "## Setup\n",
    "\n",
    "If you haven't already, install FiftyOne:"
   ]
  },
  {
   "cell_type": "code",
   "execution_count": null,
   "metadata": {},
   "outputs": [],
   "source": [
    "!pip install fiftyone"
   ]
  },
  {
   "cell_type": "markdown",
   "metadata": {},
   "source": [
    "In this recipe, we'll work with a dataset downloaded from the [FiftyOne Dataset Zoo](https://voxel51.com/docs/fiftyone/user_guide/dataset_creation/zoo.html).\n",
    "\n",
    "To access the dataset, install `torch` and `torchvision`, if necessary:"
   ]
  },
  {
   "cell_type": "code",
   "execution_count": 1,
   "metadata": {
    "scrolled": true
   },
   "outputs": [
    {
     "name": "stdout",
     "output_type": "stream",
     "text": [
      "Requirement already satisfied: torch in /opt/homebrew/Caskroom/miniforge/base/envs/fdev/lib/python3.9/site-packages (2.2.1)\n",
      "Requirement already satisfied: torchvision in /opt/homebrew/Caskroom/miniforge/base/envs/fdev/lib/python3.9/site-packages (0.17.1)\n",
      "Requirement already satisfied: filelock in /opt/homebrew/Caskroom/miniforge/base/envs/fdev/lib/python3.9/site-packages (from torch) (3.13.1)\n",
      "Requirement already satisfied: typing-extensions>=4.8.0 in /opt/homebrew/Caskroom/miniforge/base/envs/fdev/lib/python3.9/site-packages (from torch) (4.10.0)\n",
      "Requirement already satisfied: sympy in /opt/homebrew/Caskroom/miniforge/base/envs/fdev/lib/python3.9/site-packages (from torch) (1.12)\n",
      "Requirement already satisfied: networkx in /opt/homebrew/Caskroom/miniforge/base/envs/fdev/lib/python3.9/site-packages (from torch) (3.2.1)\n",
      "Requirement already satisfied: jinja2 in /opt/homebrew/Caskroom/miniforge/base/envs/fdev/lib/python3.9/site-packages (from torch) (3.1.4)\n",
      "Requirement already satisfied: fsspec in /opt/homebrew/Caskroom/miniforge/base/envs/fdev/lib/python3.9/site-packages (from torch) (2024.2.0)\n",
      "Requirement already satisfied: numpy in /opt/homebrew/Caskroom/miniforge/base/envs/fdev/lib/python3.9/site-packages (from torchvision) (1.24.4)\n",
      "Requirement already satisfied: pillow!=8.3.*,>=5.3.0 in /opt/homebrew/Caskroom/miniforge/base/envs/fdev/lib/python3.9/site-packages (from torchvision) (10.2.0)\n",
      "Requirement already satisfied: MarkupSafe>=2.0 in /opt/homebrew/Caskroom/miniforge/base/envs/fdev/lib/python3.9/site-packages (from jinja2->torch) (2.1.5)\n",
      "Requirement already satisfied: mpmath>=0.19 in /opt/homebrew/Caskroom/miniforge/base/envs/fdev/lib/python3.9/site-packages (from sympy->torch) (1.3.0)\n"
     ]
    }
   ],
   "source": [
    "!pip install torch torchvision"
   ]
  },
  {
   "cell_type": "code",
   "execution_count": 2,
   "metadata": {},
   "outputs": [],
   "source": [
    "import fiftyone as fo\n",
    "import fiftyone.zoo as foz\n",
    "from fiftyone import ViewField as F"
   ]
  },
  {
   "cell_type": "code",
   "execution_count": 3,
   "metadata": {},
   "outputs": [],
   "source": [
    "# fo.delete_datasets(\"d*\")"
   ]
  },
  {
   "cell_type": "markdown",
   "metadata": {},
   "source": [
    "Create a few random datasets to merge:"
   ]
  },
  {
   "cell_type": "code",
   "execution_count": 4,
   "metadata": {},
   "outputs": [
    {
     "name": "stdout",
     "output_type": "stream",
     "text": [
      "Split 'test' already downloaded\n",
      "Loading 'cifar10' split 'test'\n",
      " 100% |███████████████| 1000/1000 [245.0ms elapsed, 0s remaining, 4.1K samples/s]      \n",
      "Dataset 'd1' created\n",
      "Split 'test' already downloaded\n",
      "Loading 'cifar10' split 'test'\n",
      " 100% |███████████████| 1000/1000 [293.7ms elapsed, 0s remaining, 3.4K samples/s]      \n",
      "Dataset 'd2' created\n",
      "Split 'test' already downloaded\n",
      "Loading 'cifar10' split 'test'\n",
      " 100% |███████████████| 1000/1000 [241.3ms elapsed, 0s remaining, 4.1K samples/s]      \n",
      "Dataset 'd3' created\n"
     ]
    }
   ],
   "source": [
    "dsets = [\n",
    "    foz.load_zoo_dataset(\n",
    "        \"cifar10\",\n",
    "        split=\"test\",\n",
    "        dataset_name=f\"d{i+1}\",\n",
    "        max_samples=1000,\n",
    "        shuffle=True,\n",
    "    )\n",
    "    for i in range(3)\n",
    "]"
   ]
  },
  {
   "cell_type": "code",
   "execution_count": 5,
   "metadata": {},
   "outputs": [],
   "source": [
    "d1, d2, d3 = dsets"
   ]
  },
  {
   "cell_type": "code",
   "execution_count": 6,
   "metadata": {},
   "outputs": [
    {
     "name": "stdout",
     "output_type": "stream",
     "text": [
      "d1 has 1000 samples\n",
      "d2 has 1000 samples\n",
      "d3 has 1000 samples\n"
     ]
    }
   ],
   "source": [
    "for d in dsets:\n",
    "    print(f\"{d.name} has {d.count()} samples\")"
   ]
  },
  {
   "cell_type": "markdown",
   "metadata": {},
   "source": [
    "## Basic Merge"
   ]
  },
  {
   "cell_type": "markdown",
   "metadata": {},
   "source": [
    "Calling `merge_samples()` on a FiftyOne dataset will merge the samples from the input dataset into the target dataset. Let's see this by cloning `d1` and merging `d2` into it:"
   ]
  },
  {
   "cell_type": "code",
   "execution_count": 7,
   "metadata": {},
   "outputs": [
    {
     "name": "stdout",
     "output_type": "stream",
     "text": [
      "Name:        d1_clone\n",
      "Media type:  image\n",
      "Num samples: 1912\n",
      "Persistent:  False\n",
      "Tags:        []\n",
      "Sample fields:\n",
      "    id:           fiftyone.core.fields.ObjectIdField\n",
      "    filepath:     fiftyone.core.fields.StringField\n",
      "    tags:         fiftyone.core.fields.ListField(fiftyone.core.fields.StringField)\n",
      "    metadata:     fiftyone.core.fields.EmbeddedDocumentField(fiftyone.core.metadata.ImageMetadata)\n",
      "    ground_truth: fiftyone.core.fields.EmbeddedDocumentField(fiftyone.core.labels.Classification)\n"
     ]
    }
   ],
   "source": [
    "d1_clone = d1.clone(name=\"d1_clone\")\n",
    "d1_clone.merge_samples(d2)\n",
    "print(d1_clone)"
   ]
  },
  {
   "cell_type": "markdown",
   "metadata": {},
   "source": [
    "By default, samples with the same `filepath` are merged. Hence, every filepath in `d2` is unique:"
   ]
  },
  {
   "cell_type": "code",
   "execution_count": 18,
   "metadata": {},
   "outputs": [
    {
     "data": {
      "text/plain": [
       "1912"
      ]
     },
     "execution_count": 18,
     "metadata": {},
     "output_type": "execute_result"
    }
   ],
   "source": [
    "len(d1_clone.distinct(F(\"filepath\")))"
   ]
  },
  {
   "cell_type": "markdown",
   "metadata": {},
   "source": [
    "To be explicit, let's do the math:"
   ]
  },
  {
   "cell_type": "code",
   "execution_count": 26,
   "metadata": {},
   "outputs": [
    {
     "name": "stdout",
     "output_type": "stream",
     "text": [
      "Num unique filepaths: 1912\n",
      "Num duplicate filepaths: 88\n"
     ]
    }
   ],
   "source": [
    "d1_fps = set(d1.distinct(\"filepath\"))\n",
    "d2_fps = set(d2.distinct(\"filepath\"))\n",
    "\n",
    "## Union\n",
    "print(f\"Num unique filepaths: {len(d1_fps.union(d2_fps))}\")\n",
    "\n",
    "## Intersection\n",
    "print(f\"Num duplicate filepaths: {len(d1_fps.intersection(d2_fps))}\")"
   ]
  },
  {
   "cell_type": "markdown",
   "metadata": {},
   "source": [
    "If you try to merge the same samples again, nothing will happen:"
   ]
  },
  {
   "cell_type": "code",
   "execution_count": 27,
   "metadata": {},
   "outputs": [
    {
     "name": "stdout",
     "output_type": "stream",
     "text": [
      "1912\n"
     ]
    }
   ],
   "source": [
    "d1_clone.merge_samples(d2)\n",
    "print(d1_clone.count())"
   ]
  },
  {
   "cell_type": "markdown",
   "metadata": {},
   "source": [
    "If you do want to add all samples from `d2` to `d1`, creating new samples in `d1` for samples in `d2` with the same `filepath`, use `add_collection()`:"
   ]
  },
  {
   "cell_type": "code",
   "execution_count": 28,
   "metadata": {},
   "outputs": [
    {
     "name": "stdout",
     "output_type": "stream",
     "text": [
      "2912\n"
     ]
    }
   ],
   "source": [
    "d1_clone.add_collection(d2)\n",
    "print(d1_clone.count())"
   ]
  },
  {
   "cell_type": "markdown",
   "metadata": {},
   "source": [
    "You can also customize the merge key with a `key_field` or a `key_fcn` function."
   ]
  },
  {
   "cell_type": "markdown",
   "metadata": {},
   "source": [
    "## Merge with Key Field"
   ]
  },
  {
   "cell_type": "markdown",
   "metadata": {},
   "source": [
    "Let's merge two datasets based on a key field \"position\". Note what fields are on the samples in the merged datasets:"
   ]
  },
  {
   "cell_type": "code",
   "execution_count": 46,
   "metadata": {},
   "outputs": [
    {
     "name": "stdout",
     "output_type": "stream",
     "text": [
      "Name:        d1_keyfield\n",
      "Media type:  image\n",
      "Num samples: 1000\n",
      "Persistent:  False\n",
      "Tags:        []\n",
      "Sample fields:\n",
      "    id:           fiftyone.core.fields.ObjectIdField\n",
      "    filepath:     fiftyone.core.fields.StringField\n",
      "    tags:         fiftyone.core.fields.ListField(fiftyone.core.fields.StringField)\n",
      "    metadata:     fiftyone.core.fields.EmbeddedDocumentField(fiftyone.core.metadata.ImageMetadata)\n",
      "    ground_truth: fiftyone.core.fields.EmbeddedDocumentField(fiftyone.core.labels.Classification)\n",
      "    position:     fiftyone.core.fields.IntField\n",
      "    field1:       fiftyone.core.fields.FloatField\n",
      "Name:        d2\n",
      "Media type:  image\n",
      "Num samples: 1000\n",
      "Persistent:  False\n",
      "Tags:        []\n",
      "Sample fields:\n",
      "    id:           fiftyone.core.fields.ObjectIdField\n",
      "    filepath:     fiftyone.core.fields.StringField\n",
      "    tags:         fiftyone.core.fields.ListField(fiftyone.core.fields.StringField)\n",
      "    metadata:     fiftyone.core.fields.EmbeddedDocumentField(fiftyone.core.metadata.ImageMetadata)\n",
      "    ground_truth: fiftyone.core.fields.EmbeddedDocumentField(fiftyone.core.labels.Classification)\n",
      "    keyfield:     fiftyone.core.fields.IntField\n",
      "    position:     fiftyone.core.fields.IntField\n",
      "    field2:       fiftyone.core.fields.FloatField\n"
     ]
    }
   ],
   "source": [
    "import numpy as np\n",
    "d1_keyfield = d1.clone(name=\"d1_keyfield\")\n",
    "\n",
    "## number by position\n",
    "d1_keyfield.set_values(\"position\", np.arange(d1_keyfield.count()))\n",
    "d2.set_values(\"position\", np.arange(d2.count()))\n",
    "\n",
    "## create new fields on d1_keyfield and d2 for illustration\n",
    "d1_keyfield.set_values(\"field1\", np.random.rand(d1.count()))\n",
    "d2.set_values(\"field2\", np.random.rand(d2.count()))\n",
    "\n",
    "print(d1_keyfield)\n",
    "\n",
    "print(d2)"
   ]
  },
  {
   "cell_type": "code",
   "execution_count": 47,
   "metadata": {},
   "outputs": [
    {
     "name": "stdout",
     "output_type": "stream",
     "text": [
      "Name:        d1_keyfield\n",
      "Media type:  image\n",
      "Num samples: 1000\n",
      "Persistent:  False\n",
      "Tags:        []\n",
      "Sample fields:\n",
      "    id:           fiftyone.core.fields.ObjectIdField\n",
      "    filepath:     fiftyone.core.fields.StringField\n",
      "    tags:         fiftyone.core.fields.ListField(fiftyone.core.fields.StringField)\n",
      "    metadata:     fiftyone.core.fields.EmbeddedDocumentField(fiftyone.core.metadata.ImageMetadata)\n",
      "    ground_truth: fiftyone.core.fields.EmbeddedDocumentField(fiftyone.core.labels.Classification)\n",
      "    position:     fiftyone.core.fields.IntField\n",
      "    field1:       fiftyone.core.fields.FloatField\n",
      "    keyfield:     fiftyone.core.fields.IntField\n",
      "    field2:       fiftyone.core.fields.FloatField\n"
     ]
    }
   ],
   "source": [
    "d1_keyfield.merge_samples(d2, key_field=\"position\")\n",
    "print(d1_keyfield)"
   ]
  },
  {
   "cell_type": "markdown",
   "metadata": {},
   "source": [
    "Note that there are only $1,000$ samples in the merged dataset, because the samples with the same `position` are merged. Also note that while `field1` was present in `d1`, and `field2` was present in `d2`, both are present in the merged dataset. This is what happens when you merge datasets with different fields!"
   ]
  },
  {
   "cell_type": "markdown",
   "metadata": {},
   "source": [
    "If we had some samples with non-matching `position` values:"
   ]
  },
  {
   "cell_type": "code",
   "execution_count": 57,
   "metadata": {},
   "outputs": [],
   "source": [
    "d1_partial_overlap = d1.clone(name=\"d1_po\")\n",
    "\n",
    "## number by position with half overlap\n",
    "d1_partial_overlap.set_values(\"position\", np.arange(d1_partial_overlap.count()) + int(d1.count() / 2))"
   ]
  },
  {
   "cell_type": "code",
   "execution_count": 58,
   "metadata": {},
   "outputs": [
    {
     "name": "stdout",
     "output_type": "stream",
     "text": [
      "Name:        d1_po\n",
      "Media type:  image\n",
      "Num samples: 1500\n",
      "Persistent:  False\n",
      "Tags:        []\n",
      "Sample fields:\n",
      "    id:           fiftyone.core.fields.ObjectIdField\n",
      "    filepath:     fiftyone.core.fields.StringField\n",
      "    tags:         fiftyone.core.fields.ListField(fiftyone.core.fields.StringField)\n",
      "    metadata:     fiftyone.core.fields.EmbeddedDocumentField(fiftyone.core.metadata.ImageMetadata)\n",
      "    ground_truth: fiftyone.core.fields.EmbeddedDocumentField(fiftyone.core.labels.Classification)\n",
      "    position:     fiftyone.core.fields.IntField\n",
      "    keyfield:     fiftyone.core.fields.IntField\n",
      "    field2:       fiftyone.core.fields.FloatField\n"
     ]
    }
   ],
   "source": [
    "d1_partial_overlap.merge_samples(d2, key_field=\"position\")\n",
    "print(d1_partial_overlap)"
   ]
  },
  {
   "cell_type": "markdown",
   "metadata": {},
   "source": [
    "This merges the overlapping samples and adds the non-overlapping samples as new samples in the merged dataset. You can add just the overlapping samples with the argument `insert_new=False`."
   ]
  },
  {
   "cell_type": "markdown",
   "metadata": {},
   "source": [
    "## Choosing Fields to Merge"
   ]
  },
  {
   "cell_type": "markdown",
   "metadata": {},
   "source": [
    "When you merge two datasets, you can choose which fields to merge. By default, all fields are merged. You can specify the fields to merge with the `fields` argument, or you can specify the fields to exclude with the `omit_fields` argument. Let's try both:"
   ]
  },
  {
   "cell_type": "code",
   "execution_count": 73,
   "metadata": {},
   "outputs": [],
   "source": [
    "d3.delete_sample_field(\"field1\")"
   ]
  },
  {
   "cell_type": "code",
   "execution_count": 81,
   "metadata": {},
   "outputs": [],
   "source": [
    "fo.delete_datasets(\"d3_*\")"
   ]
  },
  {
   "cell_type": "code",
   "execution_count": 82,
   "metadata": {},
   "outputs": [],
   "source": [
    "d3_a = d3.clone(name=\"d3_a\")\n",
    "d3_b = d3.clone(name=\"d3_b\")\n",
    "d3_c = d3.clone(name=\"d3_c\")"
   ]
  },
  {
   "cell_type": "code",
   "execution_count": 83,
   "metadata": {},
   "outputs": [],
   "source": [
    "## create new dummy fields on d3_a, d3_b, d3_c\n",
    "\n",
    "d3_a.add_sample_field(\"field_a\", fo.IntField)\n",
    "d3_a.set_field(\"field_a\", 1)\n",
    "d3_a.save()\n",
    "\n",
    "d3_b.add_sample_field(\"field_b1\", fo.IntField)\n",
    "d3_b.set_field(\"field_b1\", 1)\n",
    "d3_b.save()\n",
    "\n",
    "d3_b.add_sample_field(\"field_b2\", fo.IntField)\n",
    "d3_b.set_field(\"field_b2\", 1)\n",
    "d3_b.save()\n",
    "\n",
    "d3_c.add_sample_field(\"field_c\", fo.IntField)\n",
    "d3_c.set_field(\"field_c\", 1)\n",
    "d3_c.save()"
   ]
  },
  {
   "cell_type": "code",
   "execution_count": 84,
   "metadata": {},
   "outputs": [
    {
     "name": "stdout",
     "output_type": "stream",
     "text": [
      "Name:        d3_a\n",
      "Media type:  image\n",
      "Num samples: 1000\n",
      "Persistent:  False\n",
      "Tags:        []\n",
      "Sample fields:\n",
      "    id:           fiftyone.core.fields.ObjectIdField\n",
      "    filepath:     fiftyone.core.fields.StringField\n",
      "    tags:         fiftyone.core.fields.ListField(fiftyone.core.fields.StringField)\n",
      "    metadata:     fiftyone.core.fields.EmbeddedDocumentField(fiftyone.core.metadata.ImageMetadata)\n",
      "    ground_truth: fiftyone.core.fields.EmbeddedDocumentField(fiftyone.core.labels.Classification)\n",
      "    field_a:      fiftyone.core.fields.IntField\n",
      "    field_b2:     fiftyone.core.fields.IntField\n"
     ]
    }
   ],
   "source": [
    "## merge all fields from d3_b except \"field_b1\" into d3_a\n",
    "d3_a.merge_samples(d3_b, omit_fields=\"field_b1\")\n",
    "print(d3_a)"
   ]
  },
  {
   "cell_type": "code",
   "execution_count": 85,
   "metadata": {},
   "outputs": [
    {
     "name": "stdout",
     "output_type": "stream",
     "text": [
      "Name:        d3_c\n",
      "Media type:  image\n",
      "Num samples: 1000\n",
      "Persistent:  False\n",
      "Tags:        []\n",
      "Sample fields:\n",
      "    id:           fiftyone.core.fields.ObjectIdField\n",
      "    filepath:     fiftyone.core.fields.StringField\n",
      "    tags:         fiftyone.core.fields.ListField(fiftyone.core.fields.StringField)\n",
      "    metadata:     fiftyone.core.fields.EmbeddedDocumentField(fiftyone.core.metadata.ImageMetadata)\n",
      "    ground_truth: fiftyone.core.fields.EmbeddedDocumentField(fiftyone.core.labels.Classification)\n",
      "    field_c:      fiftyone.core.fields.IntField\n",
      "    field_a:      fiftyone.core.fields.IntField\n"
     ]
    }
   ],
   "source": [
    "## merge only field \"field_a\" from d3_a into d3_c (not \"field_b2\")\n",
    "d3_c.merge_samples(d3_a, fields=[\"field_a\"])\n",
    "print(d3_c)"
   ]
  }
 ],
 "metadata": {
  "kernelspec": {
   "display_name": "Python 3",
   "language": "python",
   "name": "python3"
  },
  "language_info": {
   "codemirror_mode": {
    "name": "ipython",
    "version": 3
   },
   "file_extension": ".py",
   "mimetype": "text/x-python",
   "name": "python",
   "nbconvert_exporter": "python",
   "pygments_lexer": "ipython3",
   "version": "3.9.0"
  }
 },
 "nbformat": 4,
 "nbformat_minor": 4
}
